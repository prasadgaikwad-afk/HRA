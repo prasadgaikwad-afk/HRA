{
 "cells": [
  {
   "cell_type": "code",
   "execution_count": 1,
   "id": "f5fd5d86-d1a7-434b-87ea-a901b72b1baf",
   "metadata": {},
   "outputs": [],
   "source": [
    "import os\n",
    "import cv2\n",
    "import numpy as np\n",
    "import matplotlib.pyplot as plt"
   ]
  },
  {
   "cell_type": "code",
   "execution_count": 7,
   "id": "3c014af8-3a90-47aa-a0da-9b6abb316d10",
   "metadata": {},
   "outputs": [],
   "source": [
    "count = 0\n",
    "for files in os.listdir('C:/Users/ppras/ML/HRA/video'):\n",
    "    cap = cv2.VideoCapture(os.path.join('C:/Users/ppras/ML/HRA/video', files))\n",
    "    success, image = cap.read()\n",
    "    if not os.path.exists('C:/Users/ppras/ML/HRA/frames/'):\n",
    "        os.mkdir('C:/Users/ppras/ML/HRA/frames/')\n",
    "    while success:\n",
    "        success, image = cap.read()\n",
    "        if not success:\n",
    "            break\n",
    "        cv2.imwrite('C:/Users/ppras/ML/HRA/frames/' + str(count) + '.jpg' , image)\n",
    "        count += 1"
   ]
  },
  {
   "cell_type": "code",
   "execution_count": 17,
   "id": "874211a3-cf97-4e3f-8c46-6153ffe5d269",
   "metadata": {},
   "outputs": [],
   "source": [
    "os.mkdir('C:/Users/ppras/ML/HRA/greyscale')"
   ]
  },
  {
   "cell_type": "code",
   "execution_count": 18,
   "id": "8f916a34-2dd4-411b-a542-40002afa60cb",
   "metadata": {},
   "outputs": [],
   "source": [
    "dirPath = 'C:/Users/ppras/ML/HRA/frames/'"
   ]
  },
  {
   "cell_type": "code",
   "execution_count": 19,
   "id": "fc847840-33eb-4e6c-9cf5-58801ffc0f29",
   "metadata": {},
   "outputs": [],
   "source": [
    "files = os.listdir(dirPath)"
   ]
  },
  {
   "cell_type": "code",
   "execution_count": 20,
   "id": "9de10be6-9d4f-4708-9af8-a916d5dffd1b",
   "metadata": {},
   "outputs": [],
   "source": [
    "down_width = 280\n",
    "down_height = 200\n",
    "down_points = (down_width,down_height)"
   ]
  },
  {
   "cell_type": "code",
   "execution_count": 21,
   "id": "4a5ba8a8-1fca-4b44-9a44-de62048a8b6f",
   "metadata": {},
   "outputs": [],
   "source": [
    "im_count = 0\n",
    "for file in files:\n",
    "    impath = os.path.join(dirPath,file)\n",
    "    image = cv2.imread(impath, cv2.IMREAD_GRAYSCALE)\n",
    "    norm = cv2.normalize(image, None, alpha=0,beta=200, norm_type=cv2.NORM_MINMAX)\n",
    "    resized_up = cv2.resize(norm, down_points, interpolation= cv2.INTER_LINEAR)\n",
    "    norm1 = cv2.imwrite('C:/Users/ppras/ML/HRA/greyscale/' + str(im_count) + '.jpg' , resized_up)\n",
    "    im_count +=1\n"
   ]
  },
  {
   "cell_type": "code",
   "execution_count": null,
   "id": "cb5e4383-83cc-48c3-b9da-2eb3e783a5d8",
   "metadata": {},
   "outputs": [],
   "source": []
  }
 ],
 "metadata": {
  "kernelspec": {
   "display_name": "Python 3 (ipykernel)",
   "language": "python",
   "name": "python3"
  },
  "language_info": {
   "codemirror_mode": {
    "name": "ipython",
    "version": 3
   },
   "file_extension": ".py",
   "mimetype": "text/x-python",
   "name": "python",
   "nbconvert_exporter": "python",
   "pygments_lexer": "ipython3",
   "version": "3.9.7"
  }
 },
 "nbformat": 4,
 "nbformat_minor": 5
}
