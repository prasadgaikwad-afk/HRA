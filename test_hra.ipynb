{
  "cells": [
    {
      "cell_type": "code",
      "execution_count": 1,
      "id": "b1f8e35b-b0f1-4486-a2e0-80194d2730d5",
      "metadata": {
        "id": "b1f8e35b-b0f1-4486-a2e0-80194d2730d5"
      },
      "outputs": [],
      "source": [
        "import os\n",
        "import cv2\n",
        "import glob\n",
        "import numpy as np\n",
        "import matplotlib.pyplot as plt"
      ]
    },
    {
      "cell_type": "code",
      "source": [
        "from google.colab import drive\n",
        "drive.mount('/content/drive')"
      ],
      "metadata": {
        "colab": {
          "base_uri": "https://localhost:8080/"
        },
        "id": "gejDsUr85I6e",
        "outputId": "d1ff564d-77bf-4be4-9528-02d4ca5126b6"
      },
      "id": "gejDsUr85I6e",
      "execution_count": 2,
      "outputs": [
        {
          "output_type": "stream",
          "name": "stdout",
          "text": [
            "Mounted at /content/drive\n"
          ]
        }
      ]
    },
    {
      "cell_type": "code",
      "execution_count": 3,
      "id": "6177e4fb-01b5-48cd-8f4e-625df8eb920c",
      "metadata": {
        "id": "6177e4fb-01b5-48cd-8f4e-625df8eb920c"
      },
      "outputs": [],
      "source": [
        "data_path = '/content/drive/MyDrive/Human activity /hra_test/sample_videos'"
      ]
    },
    {
      "cell_type": "code",
      "execution_count": 4,
      "id": "ee620ada-af6f-4c9b-adc5-d87a482b5cee",
      "metadata": {
        "id": "ee620ada-af6f-4c9b-adc5-d87a482b5cee"
      },
      "outputs": [],
      "source": [
        "categoeries = os.listdir(data_path)\n",
        "labels = [i for i in range(len(categoeries))]\n",
        "label_dict = dict(zip(categoeries, labels))"
      ]
    },
    {
      "cell_type": "code",
      "execution_count": 5,
      "id": "7f61c60c-b1f0-4d03-af51-d5a923410403",
      "metadata": {
        "colab": {
          "base_uri": "https://localhost:8080/"
        },
        "id": "7f61c60c-b1f0-4d03-af51-d5a923410403",
        "outputId": "d7ccdd63-27d9-4cc5-e8c2-1405e9f38ef9"
      },
      "outputs": [
        {
          "output_type": "stream",
          "name": "stdout",
          "text": [
            "{'cricket': 0, 'Golf': 1, 'yo_yo': 2, 'typing': 3, 'Drumming': 4, 'writing_on_board': 5, 'Handstand': 6, 'Fencing': 7, 'Walkng_witthDog': 8, 'tennis': 9}\n",
            "['cricket', 'Golf', 'yo_yo', 'typing', 'Drumming', 'writing_on_board', 'Handstand', 'Fencing', 'Walkng_witthDog', 'tennis']\n",
            "[0, 1, 2, 3, 4, 5, 6, 7, 8, 9]\n"
          ]
        }
      ],
      "source": [
        "print(label_dict)\n",
        "print(categoeries)\n",
        "print(labels)"
      ]
    },
    {
      "cell_type": "code",
      "source": [
        "frames = '/content/drive/MyDrive/Human activity /hra_test/frames'"
      ],
      "metadata": {
        "id": "RpS-K64f54Mk"
      },
      "id": "RpS-K64f54Mk",
      "execution_count": 6,
      "outputs": []
    },
    {
      "cell_type": "code",
      "source": [
        "if not os.path.exists(frames):\n",
        "    os.makedirs(frames)"
      ],
      "metadata": {
        "id": "OMq0EBsw54EV"
      },
      "id": "OMq0EBsw54EV",
      "execution_count": 7,
      "outputs": []
    },
    {
      "cell_type": "code",
      "execution_count": 8,
      "id": "4f576c3b-d35c-4c5f-9d7e-b1220f2ff1ea",
      "metadata": {
        "id": "4f576c3b-d35c-4c5f-9d7e-b1220f2ff1ea"
      },
      "outputs": [],
      "source": [
        "root_path = '/content/drive/MyDrive/Human activity /hra_test/frames' # Path for writing frames from videos"
      ]
    },
    {
      "cell_type": "code",
      "execution_count": 9,
      "id": "7af3c981-2ad4-4aea-86e0-459a69008c71",
      "metadata": {
        "id": "7af3c981-2ad4-4aea-86e0-459a69008c71"
      },
      "outputs": [],
      "source": [
        "data=[] # Appending images as array in the list\n",
        "target=[] #Target list to make prediction"
      ]
    },
    {
      "cell_type": "code",
      "execution_count": 12,
      "id": "3e809836-a8c8-4e45-a2ff-1c6e1be3cfa5",
      "metadata": {
        "id": "3e809836-a8c8-4e45-a2ff-1c6e1be3cfa5"
      },
      "outputs": [],
      "source": [
        "folder_count = 0\n",
        "img_size=160"
      ]
    },
    {
      "cell_type": "code",
      "execution_count": 13,
      "id": "b73bd474-f81e-4572-bfec-5901195dac17",
      "metadata": {
        "id": "b73bd474-f81e-4572-bfec-5901195dac17"
      },
      "outputs": [],
      "source": [
        "for items in categoeries: #looping over folders in categoeries\n",
        "    path = os.path.join(root_path, items) \n",
        "    folder_path = os.path.join(data_path,items)\n",
        "    img_names = os.listdir(folder_path) # Listing all files inside the directory\n",
        "    os.mkdir(path)\n",
        "    img_count= 0\n",
        "    folder_count +=1\n",
        "    \n",
        "    for img_name in img_names:\n",
        "            cap = cv2.VideoCapture(os.path.join(folder_path, img_name)) # Capcturing video and dividing it by frames\n",
        "            success, image = cap.read()\n",
        "            while success:\n",
        "                success, image = cap.read()\n",
        "                if not success:\n",
        "                    break\n",
        "                \n",
        "                \n",
        "                #gray_image = cv2.cvtColor(image, cv2.COLOR_BGR2GRAY) # Converting coloured image to greyScale\n",
        "                #norm = cv2.normalize(gray_image, None, alpha=0,beta=200, norm_type=cv2.NORM_MINMAX) # Normalize image\n",
        "                #resized_up = cv2.resize(image, down_points, interpolation= cv2.INTER_LINEAR) # Resizing image\n",
        "                resized=cv2.resize(image,(img_size,img_size))\n",
        "                cv2.imwrite(path + '/' + items +str(img_count) + '.jpg' , resized) # Writing image into to specified class with its class name \n",
        "                data.append(resized)\n",
        "                target.append(label_dict[items])\n",
        "                \n",
        "                img_count += 1"
      ]
    },
    {
      "cell_type": "code",
      "execution_count": 14,
      "id": "6f9963dd-9970-48d0-b002-c2c059419754",
      "metadata": {
        "id": "6f9963dd-9970-48d0-b002-c2c059419754"
      },
      "outputs": [],
      "source": [
        "def normalize(x):\n",
        "    x = np.array(data)\n",
        "    x = x.astype('float32')\n",
        "    x = x/255.0\n",
        "    return x"
      ]
    },
    {
      "cell_type": "code",
      "execution_count": 15,
      "id": "66f31d61-933b-4a3b-9406-1d78994dd41c",
      "metadata": {
        "id": "66f31d61-933b-4a3b-9406-1d78994dd41c"
      },
      "outputs": [],
      "source": [
        "data_x = normalize(data)"
      ]
    },
    {
      "cell_type": "code",
      "execution_count": 16,
      "id": "67a10f2f-79ae-44b0-af3d-61daadc27b8e",
      "metadata": {
        "id": "67a10f2f-79ae-44b0-af3d-61daadc27b8e"
      },
      "outputs": [],
      "source": [
        "target=np.array(target)"
      ]
    },
    {
      "cell_type": "code",
      "execution_count": 20,
      "id": "04f93a93-cd98-464c-8fd2-ef0596edf120",
      "metadata": {
        "colab": {
          "base_uri": "https://localhost:8080/"
        },
        "id": "04f93a93-cd98-464c-8fd2-ef0596edf120",
        "outputId": "e5bd352d-e5cd-43f6-b22a-60acf498af3b"
      },
      "outputs": [
        {
          "output_type": "execute_result",
          "data": {
            "text/plain": [
              "array([0, 0, 0, 0, 0])"
            ]
          },
          "metadata": {},
          "execution_count": 20
        }
      ],
      "source": [
        "target = target.reshape(-1,)\n",
        "target[:5]"
      ]
    },
    {
      "cell_type": "code",
      "execution_count": 21,
      "id": "8668912e-3289-46ab-a513-f3fe9e0a36d7",
      "metadata": {
        "id": "8668912e-3289-46ab-a513-f3fe9e0a36d7"
      },
      "outputs": [],
      "source": [
        "classes = ['cricket', 'Golf', 'yo_yo', 'typing', 'Drumming', 'writing_on_board', 'Handstand', 'Fencing', 'Walkng_witthDog', 'tennis']"
      ]
    },
    {
      "cell_type": "code",
      "execution_count": 22,
      "id": "5ce38cf0-b638-452f-81dc-7f5eb25d08c3",
      "metadata": {
        "colab": {
          "base_uri": "https://localhost:8080/"
        },
        "id": "5ce38cf0-b638-452f-81dc-7f5eb25d08c3",
        "outputId": "415e27a6-0a27-4474-e56d-7e8d163fa2cf"
      },
      "outputs": [
        {
          "output_type": "execute_result",
          "data": {
            "text/plain": [
              "(8450, 160, 160, 3)"
            ]
          },
          "metadata": {},
          "execution_count": 22
        }
      ],
      "source": [
        "data_x.shape"
      ]
    },
    {
      "cell_type": "code",
      "execution_count": 23,
      "id": "dddbcf6d-8eec-4523-aba0-727850d0aaed",
      "metadata": {
        "colab": {
          "base_uri": "https://localhost:8080/"
        },
        "id": "dddbcf6d-8eec-4523-aba0-727850d0aaed",
        "outputId": "8e26c38e-704b-4f8b-a028-7a4ab0305021"
      },
      "outputs": [
        {
          "output_type": "execute_result",
          "data": {
            "text/plain": [
              "(8450,)"
            ]
          },
          "metadata": {},
          "execution_count": 23
        }
      ],
      "source": [
        "target.shape"
      ]
    },
    {
      "cell_type": "code",
      "execution_count": 24,
      "id": "0cb0118a-668a-4b2f-8931-ed9f68b755aa",
      "metadata": {
        "id": "0cb0118a-668a-4b2f-8931-ed9f68b755aa"
      },
      "outputs": [],
      "source": [
        "from sklearn.model_selection import train_test_split\n",
        "X_train ,X_test ,y_train ,y_test =train_test_split(data_x,target,test_size=0.2)"
      ]
    },
    {
      "cell_type": "code",
      "execution_count": 25,
      "id": "780c9656-1a53-487b-95c0-47901cd54229",
      "metadata": {
        "colab": {
          "base_uri": "https://localhost:8080/"
        },
        "id": "780c9656-1a53-487b-95c0-47901cd54229",
        "outputId": "f761ad43-7dfa-4a06-a541-eee5afe169db"
      },
      "outputs": [
        {
          "output_type": "stream",
          "name": "stdout",
          "text": [
            "X Train shape : (6760, 160, 160, 3)\n",
            "X Test shape : (1690, 160, 160, 3)\n",
            "y Train shape : (6760,)\n",
            "y test shape : (1690,)\n"
          ]
        }
      ],
      "source": [
        "print(\"X Train shape :\", X_train.shape)\n",
        "print(\"X Test shape :\", X_test.shape)\n",
        "print(\"y Train shape :\", y_train.shape)\n",
        "print(\"y test shape :\", y_test.shape)"
      ]
    },
    {
      "cell_type": "code",
      "execution_count": 26,
      "id": "db1018a8-f34d-4c52-b93c-43656fafc4c0",
      "metadata": {
        "id": "db1018a8-f34d-4c52-b93c-43656fafc4c0"
      },
      "outputs": [],
      "source": [
        "import tensorflow as tf\n",
        "from tensorflow.keras import datasets, layers, models\n",
        "import matplotlib.pyplot as plt\n",
        "import numpy as np"
      ]
    },
    {
      "cell_type": "code",
      "execution_count": 27,
      "id": "977a8688-2afd-4265-9524-3a20c5d85dba",
      "metadata": {
        "id": "977a8688-2afd-4265-9524-3a20c5d85dba"
      },
      "outputs": [],
      "source": [
        "ann = models.Sequential([\n",
        "        layers.Flatten(input_shape=(160,160,3)),\n",
        "        layers.Dense(3000, activation='relu'),\n",
        "        layers.Dense(1000, activation='relu'),\n",
        "        layers.Dense(10, activation='softmax')    \n",
        "    ])\n",
        "\n",
        "ann.compile(optimizer='SGD',\n",
        "              loss='sparse_categorical_crossentropy',\n",
        "              metrics=['accuracy'])"
      ]
    },
    {
      "cell_type": "code",
      "execution_count": 28,
      "id": "4f249d53-bfbf-4e7f-a652-d35c233b7e50",
      "metadata": {
        "colab": {
          "base_uri": "https://localhost:8080/"
        },
        "id": "4f249d53-bfbf-4e7f-a652-d35c233b7e50",
        "outputId": "26436538-094b-4d42-c91a-6e80f121d398"
      },
      "outputs": [
        {
          "output_type": "stream",
          "name": "stdout",
          "text": [
            "Epoch 1/5\n",
            "212/212 [==============================] - 174s 816ms/step - loss: 0.4722 - accuracy: 0.9228\n",
            "Epoch 2/5\n",
            "212/212 [==============================] - 172s 810ms/step - loss: 0.0140 - accuracy: 1.0000\n",
            "Epoch 3/5\n",
            "212/212 [==============================] - 172s 811ms/step - loss: 0.0068 - accuracy: 1.0000\n",
            "Epoch 4/5\n",
            "212/212 [==============================] - 171s 808ms/step - loss: 0.0043 - accuracy: 1.0000\n",
            "Epoch 5/5\n",
            "212/212 [==============================] - 171s 806ms/step - loss: 0.0032 - accuracy: 1.0000\n"
          ]
        },
        {
          "output_type": "execute_result",
          "data": {
            "text/plain": [
              "<keras.callbacks.History at 0x7f3a4bc2b350>"
            ]
          },
          "metadata": {},
          "execution_count": 28
        }
      ],
      "source": [
        "ann.fit(X_train, y_train, epochs=5)"
      ]
    },
    {
      "cell_type": "code",
      "execution_count": 29,
      "id": "f5ecb231-5e96-432f-a0d8-ff9f88b58d6a",
      "metadata": {
        "colab": {
          "base_uri": "https://localhost:8080/"
        },
        "id": "f5ecb231-5e96-432f-a0d8-ff9f88b58d6a",
        "outputId": "26723552-9d78-431d-db88-90e1e50616ff"
      },
      "outputs": [
        {
          "output_type": "stream",
          "name": "stdout",
          "text": [
            "Classification Report: \n",
            "               precision    recall  f1-score   support\n",
            "\n",
            "           0       1.00      1.00      1.00       115\n",
            "           1       1.00      1.00      1.00       215\n",
            "           2       1.00      1.00      1.00       134\n",
            "           3       1.00      1.00      1.00       176\n",
            "           4       1.00      1.00      1.00       300\n",
            "           5       1.00      1.00      1.00       138\n",
            "           6       1.00      1.00      1.00        95\n",
            "           7       1.00      1.00      1.00       134\n",
            "           8       1.00      1.00      1.00       197\n",
            "           9       1.00      1.00      1.00       186\n",
            "\n",
            "    accuracy                           1.00      1690\n",
            "   macro avg       1.00      1.00      1.00      1690\n",
            "weighted avg       1.00      1.00      1.00      1690\n",
            "\n"
          ]
        }
      ],
      "source": [
        "from sklearn.metrics import confusion_matrix , classification_report\n",
        "y_pred = ann.predict(X_test)\n",
        "y_pred_classes = [np.argmax(element) for element in y_pred]\n",
        "\n",
        "print(\"Classification Report: \\n\", classification_report(y_test, y_pred_classes))"
      ]
    },
    {
      "cell_type": "code",
      "execution_count": 30,
      "id": "8a31f434-53cd-4b28-8e9d-17ee4e9ea4f1",
      "metadata": {
        "id": "8a31f434-53cd-4b28-8e9d-17ee4e9ea4f1"
      },
      "outputs": [],
      "source": [
        "cnn = models.Sequential([\n",
        "    layers.Conv2D(filters=32, kernel_size=(3, 3), activation='relu', input_shape=(160, 160, 3)),\n",
        "    layers.MaxPooling2D((2, 2)),\n",
        "    \n",
        "    layers.Conv2D(filters=64, kernel_size=(3, 3), activation='relu'),\n",
        "    layers.MaxPooling2D((2, 2)),\n",
        "    \n",
        "    layers.Flatten(),\n",
        "    layers.Dense(64, activation='relu'),\n",
        "    layers.Dense(10, activation='softmax')\n",
        "])"
      ]
    },
    {
      "cell_type": "code",
      "execution_count": 31,
      "id": "2719fdf3-8fc6-46c3-904e-86fa10773a5c",
      "metadata": {
        "id": "2719fdf3-8fc6-46c3-904e-86fa10773a5c"
      },
      "outputs": [],
      "source": [
        "cnn.compile(optimizer='adam',\n",
        "              loss='sparse_categorical_crossentropy',\n",
        "              metrics=['accuracy'])"
      ]
    },
    {
      "cell_type": "code",
      "execution_count": 32,
      "id": "4fb6ea7b-b275-4789-8f9d-60f0a701e159",
      "metadata": {
        "colab": {
          "base_uri": "https://localhost:8080/"
        },
        "id": "4fb6ea7b-b275-4789-8f9d-60f0a701e159",
        "outputId": "465da278-7e16-4413-f7b7-9eebf8efc5aa"
      },
      "outputs": [
        {
          "output_type": "stream",
          "name": "stdout",
          "text": [
            "Epoch 1/10\n",
            "212/212 [==============================] - 199s 935ms/step - loss: 0.1656 - accuracy: 0.9605\n",
            "Epoch 2/10\n",
            "212/212 [==============================] - 200s 943ms/step - loss: 4.1244e-05 - accuracy: 1.0000\n",
            "Epoch 3/10\n",
            "212/212 [==============================] - 199s 940ms/step - loss: 1.9109e-05 - accuracy: 1.0000\n",
            "Epoch 4/10\n",
            "212/212 [==============================] - 199s 940ms/step - loss: 1.1267e-05 - accuracy: 1.0000\n",
            "Epoch 5/10\n",
            "212/212 [==============================] - 205s 967ms/step - loss: 7.3835e-06 - accuracy: 1.0000\n",
            "Epoch 6/10\n",
            "212/212 [==============================] - 200s 944ms/step - loss: 5.0958e-06 - accuracy: 1.0000\n",
            "Epoch 7/10\n",
            "212/212 [==============================] - 201s 946ms/step - loss: 3.6206e-06 - accuracy: 1.0000\n",
            "Epoch 8/10\n",
            "212/212 [==============================] - 201s 947ms/step - loss: 2.7186e-06 - accuracy: 1.0000\n",
            "Epoch 9/10\n",
            "212/212 [==============================] - 201s 948ms/step - loss: 2.1563e-06 - accuracy: 1.0000\n",
            "Epoch 10/10\n",
            "212/212 [==============================] - 201s 949ms/step - loss: 1.7462e-06 - accuracy: 1.0000\n"
          ]
        },
        {
          "output_type": "execute_result",
          "data": {
            "text/plain": [
              "<keras.callbacks.History at 0x7f3a4a2326d0>"
            ]
          },
          "metadata": {},
          "execution_count": 32
        }
      ],
      "source": [
        "cnn.fit(X_train, y_train, epochs=10)"
      ]
    },
    {
      "cell_type": "code",
      "execution_count": 33,
      "id": "27a151ec-3b71-46e2-bb71-d496903205a0",
      "metadata": {
        "colab": {
          "base_uri": "https://localhost:8080/"
        },
        "id": "27a151ec-3b71-46e2-bb71-d496903205a0",
        "outputId": "86b12bc9-23dd-44fc-f4c2-5a840ab0721b"
      },
      "outputs": [
        {
          "output_type": "execute_result",
          "data": {
            "text/plain": [
              "array([[6.0344144e-19, 1.9608135e-20, 7.1562130e-07, 1.5076776e-13,\n",
              "        9.9999928e-01, 1.8174973e-16, 1.6363377e-09, 2.4928709e-10,\n",
              "        1.8987699e-11, 6.5182079e-21],\n",
              "       [7.4307763e-08, 9.9716624e-12, 3.9716841e-12, 1.8158194e-11,\n",
              "        4.5619162e-14, 9.9999440e-01, 2.9157770e-09, 1.0388696e-16,\n",
              "        3.3140229e-10, 5.5069122e-06],\n",
              "       [9.9999881e-01, 1.0373029e-07, 5.4754683e-08, 2.1010464e-09,\n",
              "        4.5523446e-12, 2.8584624e-08, 1.5014106e-08, 5.0404791e-11,\n",
              "        1.0029125e-06, 3.3900420e-09],\n",
              "       [3.3825667e-09, 5.8560517e-14, 1.4573983e-09, 3.7419217e-11,\n",
              "        4.0725982e-12, 1.0000000e+00, 6.3022414e-09, 3.0240126e-11,\n",
              "        1.0584588e-08, 2.8687736e-11],\n",
              "       [8.1216322e-13, 1.3915221e-12, 9.1676566e-10, 1.7571475e-12,\n",
              "        3.8889648e-11, 1.1164779e-13, 1.9966578e-08, 4.4696965e-18,\n",
              "        1.0000000e+00, 1.4901250e-13]], dtype=float32)"
            ]
          },
          "metadata": {},
          "execution_count": 33
        }
      ],
      "source": [
        "y_pred = cnn.predict(X_test)\n",
        "y_pred[:5]"
      ]
    },
    {
      "cell_type": "code",
      "execution_count": 34,
      "id": "f287fc77-b187-424f-bb7b-fdae484720e1",
      "metadata": {
        "colab": {
          "base_uri": "https://localhost:8080/"
        },
        "id": "f287fc77-b187-424f-bb7b-fdae484720e1",
        "outputId": "454f0474-fa9d-480f-eb6e-9376656c5b94"
      },
      "outputs": [
        {
          "output_type": "execute_result",
          "data": {
            "text/plain": [
              "[4, 5, 0, 5, 8]"
            ]
          },
          "metadata": {},
          "execution_count": 34
        }
      ],
      "source": [
        "y_classes = [np.argmax(element) for element in y_pred]\n",
        "y_classes[:5]"
      ]
    },
    {
      "cell_type": "code",
      "execution_count": 35,
      "id": "4f34d54e-2d4b-4571-80d2-ffeb2029f9a8",
      "metadata": {
        "colab": {
          "base_uri": "https://localhost:8080/"
        },
        "id": "4f34d54e-2d4b-4571-80d2-ffeb2029f9a8",
        "outputId": "cd147283-3433-4575-ac05-56bbc08bbf9a"
      },
      "outputs": [
        {
          "output_type": "execute_result",
          "data": {
            "text/plain": [
              "array([4, 5, 0, 5, 8])"
            ]
          },
          "metadata": {},
          "execution_count": 35
        }
      ],
      "source": [
        "y_test[:5]"
      ]
    },
    {
      "cell_type": "code",
      "execution_count": 36,
      "id": "4a695054-3002-4803-b594-07a4e345ac14",
      "metadata": {
        "colab": {
          "base_uri": "https://localhost:8080/",
          "height": 35
        },
        "id": "4a695054-3002-4803-b594-07a4e345ac14",
        "outputId": "be2c2480-d04e-4642-c84f-dd1486a30ed4"
      },
      "outputs": [
        {
          "output_type": "execute_result",
          "data": {
            "text/plain": [
              "'writing_on_board'"
            ],
            "application/vnd.google.colaboratory.intrinsic+json": {
              "type": "string"
            }
          },
          "metadata": {},
          "execution_count": 36
        }
      ],
      "source": [
        "classes[y_classes[3]]"
      ]
    },
    {
      "cell_type": "code",
      "execution_count": 37,
      "id": "44f33ca3-875c-47b1-b4ed-5b052174aab4",
      "metadata": {
        "colab": {
          "base_uri": "https://localhost:8080/",
          "height": 35
        },
        "id": "44f33ca3-875c-47b1-b4ed-5b052174aab4",
        "outputId": "53ebff7a-d302-44ac-924e-4d7da3aeba30"
      },
      "outputs": [
        {
          "output_type": "execute_result",
          "data": {
            "text/plain": [
              "'Golf'"
            ],
            "application/vnd.google.colaboratory.intrinsic+json": {
              "type": "string"
            }
          },
          "metadata": {},
          "execution_count": 37
        }
      ],
      "source": [
        "classes[y_classes[9]]"
      ]
    },
    {
      "cell_type": "code",
      "execution_count": 39,
      "id": "518559a0-54ac-4152-871c-e26a55280f71",
      "metadata": {
        "id": "518559a0-54ac-4152-871c-e26a55280f71"
      },
      "outputs": [],
      "source": [
        "cnn.save('test_hra.hdf5')"
      ]
    },
    {
      "cell_type": "code",
      "execution_count": null,
      "id": "829138e1-84ea-4e8f-a850-6ea20f809e58",
      "metadata": {
        "id": "829138e1-84ea-4e8f-a850-6ea20f809e58"
      },
      "outputs": [],
      "source": [
        ""
      ]
    }
  ],
  "metadata": {
    "kernelspec": {
      "display_name": "Python 3 (ipykernel)",
      "language": "python",
      "name": "python3"
    },
    "language_info": {
      "codemirror_mode": {
        "name": "ipython",
        "version": 3
      },
      "file_extension": ".py",
      "mimetype": "text/x-python",
      "name": "python",
      "nbconvert_exporter": "python",
      "pygments_lexer": "ipython3",
      "version": "3.9.7"
    },
    "colab": {
      "name": "test_hra.ipynb",
      "provenance": []
    }
  },
  "nbformat": 4,
  "nbformat_minor": 5
}