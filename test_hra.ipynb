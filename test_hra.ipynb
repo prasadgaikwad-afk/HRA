{
 "cells": [
  {
   "cell_type": "code",
   "execution_count": 1,
   "id": "b1f8e35b-b0f1-4486-a2e0-80194d2730d5",
   "metadata": {},
   "outputs": [],
   "source": [
    "import os\n",
    "import cv2\n",
    "import glob\n",
    "import numpy as np\n",
    "import matplotlib.pyplot as plt"
   ]
  },
  {
   "cell_type": "code",
   "execution_count": 5,
   "id": "6177e4fb-01b5-48cd-8f4e-625df8eb920c",
   "metadata": {},
   "outputs": [],
   "source": [
    "data_path = 'C:/Users/ppras/ML/HRA/Flask-master/CIFAR-10-image-classification/sample_videos'"
   ]
  },
  {
   "cell_type": "code",
   "execution_count": 6,
   "id": "ee620ada-af6f-4c9b-adc5-d87a482b5cee",
   "metadata": {},
   "outputs": [],
   "source": [
    "categoeries = os.listdir(data_path)\n",
    "labels = [i for i in range(len(categoeries))]\n",
    "label_dict = dict(zip(categoeries, labels))"
   ]
  },
  {
   "cell_type": "code",
   "execution_count": 15,
   "id": "7f61c60c-b1f0-4d03-af51-d5a923410403",
   "metadata": {},
   "outputs": [
    {
     "name": "stdout",
     "output_type": "stream",
     "text": [
      "{'Bowling': 0, 'Boxing': 1, 'Brushing_Teeth': 2, 'cricket': 3, 'Drumming': 4, 'Fencing': 5, 'Golf': 6, 'Handstand': 7, 'tennis': 8, 'typing': 9}\n",
      "['Bowling', 'Boxing', 'Brushing_Teeth', 'cricket', 'Drumming', 'Fencing', 'Golf', 'Handstand', 'tennis', 'typing']\n",
      "[0, 1, 2, 3, 4, 5, 6, 7, 8, 9]\n"
     ]
    }
   ],
   "source": [
    "print(label_dict)\n",
    "print(categoeries)\n",
    "print(labels)"
   ]
  },
  {
   "cell_type": "code",
   "execution_count": 16,
   "id": "4f576c3b-d35c-4c5f-9d7e-b1220f2ff1ea",
   "metadata": {},
   "outputs": [],
   "source": [
    "root_path = 'C:/Users/ppras/ML/HRA/frames' # Path for writing frames from videos"
   ]
  },
  {
   "cell_type": "code",
   "execution_count": 54,
   "id": "7af3c981-2ad4-4aea-86e0-459a69008c71",
   "metadata": {},
   "outputs": [],
   "source": [
    "data=[] # Appending images as array in the list\n",
    "target=[] #Target list to make prediction"
   ]
  },
  {
   "cell_type": "code",
   "execution_count": 55,
   "id": "3e809836-a8c8-4e45-a2ff-1c6e1be3cfa5",
   "metadata": {},
   "outputs": [],
   "source": [
    "folder_count = 0\n",
    "img_size=32"
   ]
  },
  {
   "cell_type": "code",
   "execution_count": 56,
   "id": "b73bd474-f81e-4572-bfec-5901195dac17",
   "metadata": {},
   "outputs": [],
   "source": [
    "for items in categoeries: #looping over folders in categoeries\n",
    "    path = os.path.join(root_path, items) \n",
    "    folder_path = os.path.join(data_path,items)\n",
    "    img_names = os.listdir(folder_path) # Listing all files inside the directory\n",
    "    os.mkdir(path)\n",
    "    img_count= 0\n",
    "    folder_count +=1\n",
    "    \n",
    "    for img_name in img_names:\n",
    "            cap = cv2.VideoCapture(os.path.join(folder_path, img_name)) # Capcturing video and dividing it by frames\n",
    "            success, image = cap.read()\n",
    "            while success:\n",
    "                success, image = cap.read()\n",
    "                if not success:\n",
    "                    break\n",
    "                \n",
    "                \n",
    "                #gray_image = cv2.cvtColor(image, cv2.COLOR_BGR2GRAY) # Converting coloured image to greyScale\n",
    "                #norm = cv2.normalize(gray_image, None, alpha=0,beta=200, norm_type=cv2.NORM_MINMAX) # Normalize image\n",
    "                #resized_up = cv2.resize(image, down_points, interpolation= cv2.INTER_LINEAR) # Resizing image\n",
    "                resized=cv2.resize(image,(img_size,img_size))\n",
    "                cv2.imwrite(path + '/' + items +str(img_count) + '.jpg' , resized) # Writing image into to specified class with its class name \n",
    "                data.append(resized)\n",
    "                target.append(label_dict[items])\n",
    "                \n",
    "                img_count += 1"
   ]
  },
  {
   "cell_type": "code",
   "execution_count": 57,
   "id": "6f9963dd-9970-48d0-b002-c2c059419754",
   "metadata": {},
   "outputs": [],
   "source": [
    "def normalize(x):\n",
    "    x = np.array(data)\n",
    "    x = x.astype('float32')\n",
    "    x = x/255.0\n",
    "    return x"
   ]
  },
  {
   "cell_type": "code",
   "execution_count": 58,
   "id": "66f31d61-933b-4a3b-9406-1d78994dd41c",
   "metadata": {},
   "outputs": [],
   "source": [
    "data_x = normalize(data)"
   ]
  },
  {
   "cell_type": "code",
   "execution_count": 70,
   "id": "67a10f2f-79ae-44b0-af3d-61daadc27b8e",
   "metadata": {},
   "outputs": [],
   "source": [
    "target=np.array(target)"
   ]
  },
  {
   "cell_type": "code",
   "execution_count": 71,
   "id": "04f93a93-cd98-464c-8fd2-ef0596edf120",
   "metadata": {},
   "outputs": [
    {
     "data": {
      "text/plain": [
       "array([0, 0, 0, 0, 0])"
      ]
     },
     "execution_count": 71,
     "metadata": {},
     "output_type": "execute_result"
    }
   ],
   "source": [
    "target = target.reshape(-1,)\n",
    "target[:5]"
   ]
  },
  {
   "cell_type": "code",
   "execution_count": 72,
   "id": "8668912e-3289-46ab-a513-f3fe9e0a36d7",
   "metadata": {},
   "outputs": [],
   "source": [
    "classes = ['Bowling', 'Boxing', 'Brushing_Teeth', 'cricket', 'Drumming', 'Fencing', 'Golf', 'Handstand', 'tennis', 'typing']"
   ]
  },
  {
   "cell_type": "code",
   "execution_count": 73,
   "id": "5ce38cf0-b638-452f-81dc-7f5eb25d08c3",
   "metadata": {},
   "outputs": [
    {
     "data": {
      "text/plain": [
       "(8466, 32, 32, 3)"
      ]
     },
     "execution_count": 73,
     "metadata": {},
     "output_type": "execute_result"
    }
   ],
   "source": [
    "data_x.shape"
   ]
  },
  {
   "cell_type": "code",
   "execution_count": 75,
   "id": "dddbcf6d-8eec-4523-aba0-727850d0aaed",
   "metadata": {},
   "outputs": [
    {
     "data": {
      "text/plain": [
       "(8466,)"
      ]
     },
     "execution_count": 75,
     "metadata": {},
     "output_type": "execute_result"
    }
   ],
   "source": [
    "target.shape"
   ]
  },
  {
   "cell_type": "code",
   "execution_count": 76,
   "id": "0cb0118a-668a-4b2f-8931-ed9f68b755aa",
   "metadata": {},
   "outputs": [],
   "source": [
    "from sklearn.model_selection import train_test_split\n",
    "X_train ,X_test ,y_train ,y_test =train_test_split(data_x,target,test_size=0.3)"
   ]
  },
  {
   "cell_type": "code",
   "execution_count": 77,
   "id": "780c9656-1a53-487b-95c0-47901cd54229",
   "metadata": {},
   "outputs": [
    {
     "name": "stdout",
     "output_type": "stream",
     "text": [
      "X Train shape : (5926, 32, 32, 3)\n",
      "X Test shape : (2540, 32, 32, 3)\n",
      "y Train shape : (5926,)\n",
      "y test shape : (2540,)\n"
     ]
    }
   ],
   "source": [
    "print(\"X Train shape :\", X_train.shape)\n",
    "print(\"X Test shape :\", X_test.shape)\n",
    "print(\"y Train shape :\", y_train.shape)\n",
    "print(\"y test shape :\", y_test.shape)"
   ]
  },
  {
   "cell_type": "code",
   "execution_count": 78,
   "id": "db1018a8-f34d-4c52-b93c-43656fafc4c0",
   "metadata": {},
   "outputs": [],
   "source": [
    "import tensorflow as tf\n",
    "from tensorflow.keras import datasets, layers, models\n",
    "import matplotlib.pyplot as plt\n",
    "import numpy as np"
   ]
  },
  {
   "cell_type": "code",
   "execution_count": 79,
   "id": "977a8688-2afd-4265-9524-3a20c5d85dba",
   "metadata": {},
   "outputs": [
    {
     "name": "stdout",
     "output_type": "stream",
     "text": [
      "Epoch 1/5\n",
      "186/186 [==============================] - 14s 71ms/step - loss: 0.5109 - accuracy: 0.9310\n",
      "Epoch 2/5\n",
      "186/186 [==============================] - 13s 70ms/step - loss: 0.0797 - accuracy: 0.9998\n",
      "Epoch 3/5\n",
      "186/186 [==============================] - 13s 67ms/step - loss: 0.0377 - accuracy: 1.0000\n",
      "Epoch 4/5\n",
      "186/186 [==============================] - 13s 70ms/step - loss: 0.0235 - accuracy: 1.0000\n",
      "Epoch 5/5\n",
      "186/186 [==============================] - 13s 70ms/step - loss: 0.0167 - accuracy: 1.0000\n"
     ]
    },
    {
     "data": {
      "text/plain": [
       "<keras.callbacks.History at 0x23418ffa970>"
      ]
     },
     "execution_count": 79,
     "metadata": {},
     "output_type": "execute_result"
    }
   ],
   "source": [
    "ann = models.Sequential([\n",
    "        layers.Flatten(input_shape=(32,32,3)),\n",
    "        layers.Dense(3000, activation='relu'),\n",
    "        layers.Dense(1000, activation='relu'),\n",
    "        layers.Dense(10, activation='softmax')    \n",
    "    ])\n",
    "\n",
    "ann.compile(optimizer='SGD',\n",
    "              loss='sparse_categorical_crossentropy',\n",
    "              metrics=['accuracy'])\n",
    "\n",
    "ann.fit(X_train, y_train, epochs=5)"
   ]
  },
  {
   "cell_type": "code",
   "execution_count": 81,
   "id": "f5ecb231-5e96-432f-a0d8-ff9f88b58d6a",
   "metadata": {},
   "outputs": [
    {
     "name": "stdout",
     "output_type": "stream",
     "text": [
      "Classification Report: \n",
      "               precision    recall  f1-score   support\n",
      "\n",
      "           0       1.00      1.00      1.00       190\n",
      "           1       1.00      1.00      1.00       216\n",
      "           2       1.00      1.00      1.00       320\n",
      "           3       1.00      1.00      1.00       183\n",
      "           4       1.00      1.00      1.00       434\n",
      "           5       1.00      1.00      1.00       185\n",
      "           6       1.00      1.00      1.00       313\n",
      "           7       1.00      1.00      1.00       146\n",
      "           8       1.00      1.00      1.00       285\n",
      "           9       1.00      1.00      1.00       268\n",
      "\n",
      "    accuracy                           1.00      2540\n",
      "   macro avg       1.00      1.00      1.00      2540\n",
      "weighted avg       1.00      1.00      1.00      2540\n",
      "\n"
     ]
    }
   ],
   "source": [
    "from sklearn.metrics import confusion_matrix , classification_report\n",
    "y_pred = ann.predict(X_test)\n",
    "y_pred_classes = [np.argmax(element) for element in y_pred]\n",
    "\n",
    "print(\"Classification Report: \\n\", classification_report(y_test, y_pred_classes))"
   ]
  },
  {
   "cell_type": "code",
   "execution_count": 82,
   "id": "8a31f434-53cd-4b28-8e9d-17ee4e9ea4f1",
   "metadata": {},
   "outputs": [],
   "source": [
    "cnn = models.Sequential([\n",
    "    layers.Conv2D(filters=32, kernel_size=(3, 3), activation='relu', input_shape=(32, 32, 3)),\n",
    "    layers.MaxPooling2D((2, 2)),\n",
    "    \n",
    "    layers.Conv2D(filters=64, kernel_size=(3, 3), activation='relu'),\n",
    "    layers.MaxPooling2D((2, 2)),\n",
    "    \n",
    "    layers.Flatten(),\n",
    "    layers.Dense(64, activation='relu'),\n",
    "    layers.Dense(10, activation='softmax')\n",
    "])"
   ]
  },
  {
   "cell_type": "code",
   "execution_count": 83,
   "id": "2719fdf3-8fc6-46c3-904e-86fa10773a5c",
   "metadata": {},
   "outputs": [],
   "source": [
    "cnn.compile(optimizer='adam',\n",
    "              loss='sparse_categorical_crossentropy',\n",
    "              metrics=['accuracy'])"
   ]
  },
  {
   "cell_type": "code",
   "execution_count": 84,
   "id": "4fb6ea7b-b275-4789-8f9d-60f0a701e159",
   "metadata": {},
   "outputs": [
    {
     "name": "stdout",
     "output_type": "stream",
     "text": [
      "Epoch 1/10\n",
      "186/186 [==============================] - 8s 40ms/step - loss: 0.3113 - accuracy: 0.9178\n",
      "Epoch 2/10\n",
      "186/186 [==============================] - 7s 37ms/step - loss: 0.0025 - accuracy: 1.0000\n",
      "Epoch 3/10\n",
      "186/186 [==============================] - 7s 38ms/step - loss: 6.4350e-04 - accuracy: 1.0000\n",
      "Epoch 4/10\n",
      "186/186 [==============================] - 7s 38ms/step - loss: 3.1159e-04 - accuracy: 1.0000\n",
      "Epoch 5/10\n",
      "186/186 [==============================] - 7s 38ms/step - loss: 1.8228e-04 - accuracy: 1.0000\n",
      "Epoch 6/10\n",
      "186/186 [==============================] - 7s 37ms/step - loss: 1.1118e-04 - accuracy: 1.0000\n",
      "Epoch 7/10\n",
      "186/186 [==============================] - 7s 38ms/step - loss: 7.9606e-05 - accuracy: 1.0000\n",
      "Epoch 8/10\n",
      "186/186 [==============================] - 7s 37ms/step - loss: 5.7849e-05 - accuracy: 1.0000\n",
      "Epoch 9/10\n",
      "186/186 [==============================] - 7s 37ms/step - loss: 4.3654e-05 - accuracy: 1.0000\n",
      "Epoch 10/10\n",
      "186/186 [==============================] - 7s 37ms/step - loss: 3.3280e-05 - accuracy: 1.0000\n"
     ]
    },
    {
     "data": {
      "text/plain": [
       "<keras.callbacks.History at 0x234190d97c0>"
      ]
     },
     "execution_count": 84,
     "metadata": {},
     "output_type": "execute_result"
    }
   ],
   "source": [
    "cnn.fit(X_train, y_train, epochs=10)"
   ]
  },
  {
   "cell_type": "code",
   "execution_count": 98,
   "id": "27a151ec-3b71-46e2-bb71-d496903205a0",
   "metadata": {},
   "outputs": [
    {
     "data": {
      "text/plain": [
       "array([[9.99999523e-01, 5.25387520e-07, 2.24396168e-10, 1.09263857e-12,\n",
       "        5.80592172e-11, 2.49206322e-10, 3.43901035e-14, 5.91906895e-14,\n",
       "        1.70801262e-09, 2.79838352e-09],\n",
       "       [1.28817953e-17, 3.97446621e-15, 1.96739796e-23, 6.35131443e-18,\n",
       "        1.44424715e-11, 1.00000000e+00, 7.07060910e-25, 2.26767608e-16,\n",
       "        6.57532099e-23, 7.10026569e-12],\n",
       "       [1.70421856e-07, 2.13354556e-10, 3.34814260e-10, 6.36691269e-08,\n",
       "        9.99996781e-01, 1.52295968e-10, 1.29803834e-06, 1.73963463e-06,\n",
       "        4.70227131e-17, 8.36497893e-09],\n",
       "       [1.25557321e-07, 1.17400667e-08, 1.91344760e-14, 6.46079146e-09,\n",
       "        2.26728844e-06, 9.99997497e-01, 4.12358576e-14, 8.82697009e-08,\n",
       "        3.16231606e-13, 4.04670164e-09],\n",
       "       [3.08215875e-09, 5.64331137e-10, 3.22233823e-10, 2.28272370e-06,\n",
       "        4.93910690e-08, 7.59717403e-15, 9.99997735e-01, 1.24100641e-08,\n",
       "        1.15403945e-11, 1.68082312e-10]], dtype=float32)"
      ]
     },
     "execution_count": 98,
     "metadata": {},
     "output_type": "execute_result"
    }
   ],
   "source": [
    "y_pred = cnn.predict(X_test)\n",
    "y_pred[:5]"
   ]
  },
  {
   "cell_type": "code",
   "execution_count": 99,
   "id": "f287fc77-b187-424f-bb7b-fdae484720e1",
   "metadata": {},
   "outputs": [
    {
     "data": {
      "text/plain": [
       "[0, 5, 4, 5, 6]"
      ]
     },
     "execution_count": 99,
     "metadata": {},
     "output_type": "execute_result"
    }
   ],
   "source": [
    "y_classes = [np.argmax(element) for element in y_pred]\n",
    "y_classes[:5]"
   ]
  },
  {
   "cell_type": "code",
   "execution_count": 100,
   "id": "4f34d54e-2d4b-4571-80d2-ffeb2029f9a8",
   "metadata": {},
   "outputs": [
    {
     "data": {
      "text/plain": [
       "array([0, 5, 4, 5, 6])"
      ]
     },
     "execution_count": 100,
     "metadata": {},
     "output_type": "execute_result"
    }
   ],
   "source": [
    "y_test[:5]"
   ]
  },
  {
   "cell_type": "code",
   "execution_count": 109,
   "id": "b09e3ff4-3a6d-47ac-b8c2-69f367c47e5b",
   "metadata": {},
   "outputs": [],
   "source": [
    "import matplotlib.pyplot as plt"
   ]
  },
  {
   "cell_type": "code",
   "execution_count": 110,
   "id": "4a695054-3002-4803-b594-07a4e345ac14",
   "metadata": {},
   "outputs": [
    {
     "data": {
      "text/plain": [
       "'Fencing'"
      ]
     },
     "execution_count": 110,
     "metadata": {},
     "output_type": "execute_result"
    }
   ],
   "source": [
    "classes[y_classes[3]]"
   ]
  },
  {
   "cell_type": "code",
   "execution_count": 111,
   "id": "44f33ca3-875c-47b1-b4ed-5b052174aab4",
   "metadata": {},
   "outputs": [
    {
     "data": {
      "text/plain": [
       "'tennis'"
      ]
     },
     "execution_count": 111,
     "metadata": {},
     "output_type": "execute_result"
    }
   ],
   "source": [
    "classes[y_classes[9]]"
   ]
  },
  {
   "cell_type": "code",
   "execution_count": null,
   "id": "518559a0-54ac-4152-871c-e26a55280f71",
   "metadata": {},
   "outputs": [],
   "source": []
  }
 ],
 "metadata": {
  "kernelspec": {
   "display_name": "Python 3 (ipykernel)",
   "language": "python",
   "name": "python3"
  },
  "language_info": {
   "codemirror_mode": {
    "name": "ipython",
    "version": 3
   },
   "file_extension": ".py",
   "mimetype": "text/x-python",
   "name": "python",
   "nbconvert_exporter": "python",
   "pygments_lexer": "ipython3",
   "version": "3.9.7"
  }
 },
 "nbformat": 4,
 "nbformat_minor": 5
}
