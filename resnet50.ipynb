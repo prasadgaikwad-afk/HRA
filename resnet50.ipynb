{
 "cells": [
  {
   "cell_type": "code",
   "execution_count": 1,
   "id": "c597b739-e763-4d27-85d7-b125290e9333",
   "metadata": {},
   "outputs": [],
   "source": [
    "import os\n",
    "import cv2\n",
    "import glob\n",
    "import numpy as np\n",
    "from imutils import paths\n",
    "import matplotlib.pyplot as plt\n",
    "from sklearn.preprocessing import LabelBinarizer\n",
    "from keras.preprocessing.image import ImageDataGenerator\n",
    "from sklearn.model_selection import train_test_split"
   ]
  },
  {
   "cell_type": "code",
   "execution_count": 2,
   "id": "905b7381-bad5-4b33-8cf0-a0e352748022",
   "metadata": {},
   "outputs": [],
   "source": [
    "data_path = 'C:/Users/aman8/human_activity/test/sample_videos'"
   ]
  },
  {
   "cell_type": "code",
   "execution_count": 5,
   "id": "660f9363-0358-448d-88ee-c0af15367671",
   "metadata": {},
   "outputs": [],
   "source": [
    "categoeries = os.listdir(data_path)\n",
    "labels = [i for i in range(len(categoeries))]\n",
    "label_dict = dict(zip(categoeries, labels))\n",
    "#['archery', 'benchpress', 'boxing', 'cycling', 'golf', 'handstand', 'jugllingballs', 'playingcello', 'pushups', 'table_tennis', 'taichi', 'typing', 'weightlifting', 'writing_on_board', 'yo_yo']"
   ]
  },
  {
   "cell_type": "code",
   "execution_count": 6,
   "id": "7ab58bcc-079d-42cb-b365-b0e3f8803e06",
   "metadata": {},
   "outputs": [
    {
     "name": "stdout",
     "output_type": "stream",
     "text": [
      "{'archery': 0, 'benchpress': 1, 'boxing': 2, 'cycling': 3, 'golf': 4, 'handstand': 5, 'jugllingballs': 6, 'playingcello': 7, 'pushups': 8, 'table_tennis': 9, 'taichi': 10, 'typing': 11, 'weightlifting': 12, 'writing_on_board': 13, 'yo_yo': 14}\n",
      "['archery', 'benchpress', 'boxing', 'cycling', 'golf', 'handstand', 'jugllingballs', 'playingcello', 'pushups', 'table_tennis', 'taichi', 'typing', 'weightlifting', 'writing_on_board', 'yo_yo']\n",
      "[0, 1, 2, 3, 4, 5, 6, 7, 8, 9, 10, 11, 12, 13, 14]\n"
     ]
    }
   ],
   "source": [
    "print(label_dict)\n",
    "print(categoeries)\n",
    "print(labels)"
   ]
  },
  {
   "cell_type": "code",
   "execution_count": 7,
   "id": "757395f2-7c0b-4e5e-b97b-a281414d52f4",
   "metadata": {},
   "outputs": [],
   "source": [
    "root_path = 'C:/Users/aman8/human_activity/test/frames'"
   ]
  },
  {
   "cell_type": "code",
   "execution_count": 8,
   "id": "388be83a-1b85-46e7-9d1d-fe9c91cb2121",
   "metadata": {},
   "outputs": [],
   "source": [
    "folder_count = 0\n",
    "img_size=244 # Dimensions of frames we want to reszie to height/width\n",
    "frames = 60 # Number of frames we want to extract form a video"
   ]
  },
  {
   "cell_type": "code",
   "execution_count": 9,
   "id": "10f87a29-fa4f-423e-b1fd-51294bc6a069",
   "metadata": {},
   "outputs": [],
   "source": [
    "for items in categoeries: #looping over folders in categoeries\n",
    "    path = os.path.join(root_path, items) \n",
    "    folder_path = os.path.join(data_path,items)\n",
    "    img_names = os.listdir(folder_path) # Listing all files inside the directory\n",
    "    os.mkdir(path)\n",
    "    img_count= 0\n",
    "    folder_count +=1\n",
    "    \n",
    "    for img_name in img_names:\n",
    "            cap = cv2.VideoCapture(os.path.join(folder_path, img_name)) # Capcturing video and dividing it by frames\n",
    "            success, image = cap.read()\n",
    "            number_of_frames = 1\n",
    "            \n",
    "            while success:\n",
    "                success, image = cap.read()\n",
    "                if not success:\n",
    "                    break\n",
    "                resized = cv2.resize(image,(img_size,img_size))\n",
    "                cv2.imwrite(path + '/' + items + str(img_count) + '.png' , resized) # Writing image into to specified class with its class name \n",
    "                img_count += 1\n",
    "                if number_of_frames != -1 and number_of_frames == (len(range(frames))):\n",
    "                    break\n",
    "                number_of_frames +=1"
   ]
  },
  {
   "cell_type": "code",
   "execution_count": 10,
   "id": "27d0b8ff-078d-4158-810d-da683524db87",
   "metadata": {},
   "outputs": [],
   "source": [
    "classes = ['archery', 'benchpress', 'boxing', 'cycling', 'golf', 'handstand', 'jugllingballs', 'playingcello', 'pushups', 'table_tennis', 'taichi', 'typing', 'weightlifting', 'writing_on_board', 'yo_yo']"
   ]
  },
  {
   "cell_type": "code",
   "execution_count": 11,
   "id": "f8d8b6eb-8458-4674-b955-3e5a8b98cfda",
   "metadata": {},
   "outputs": [],
   "source": [
    "datapath = 'C:/Users/aman8/human_activity/test/frames'\n",
    "data_labels = set(['archery', 'benchpress', 'boxing', 'cycling', 'golf', 'handstand', 'jugllingballs', 'playingcello', 'pushups', 'table_tennis', 'taichi', 'typing', 'weightlifting', 'writing_on_board', 'yo_yo'])\n",
    "pathImg = list(paths.list_images(datapath))\n",
    "data = []\n",
    "labels = []\n",
    "\n",
    "for image in pathImg:\n",
    "    label = image.split(os.path.sep)[-2]\n",
    "    images = cv2.imread(image)\n",
    "    data.append(images)\n",
    "    labels.append(label)"
   ]
  },
  {
   "cell_type": "code",
   "execution_count": 12,
   "id": "6713cced-4837-4819-9886-b163f4805ad9",
   "metadata": {},
   "outputs": [],
   "source": [
    "data = np.array(data)\n",
    "labels = np.array(labels)"
   ]
  },
  {
   "cell_type": "code",
   "execution_count": 14,
   "id": "ef1e6f9d",
   "metadata": {},
   "outputs": [
    {
     "name": "stdout",
     "output_type": "stream",
     "text": [
      "data : (9107, 244, 244, 3)\n",
      "labels : (9107,)\n"
     ]
    }
   ],
   "source": [
    "print(\"data :\",data.shape)\n",
    "print(\"labels :\",labels.shape)"
   ]
  },
  {
   "cell_type": "code",
   "execution_count": 15,
   "id": "53af9c43-b5da-432f-b505-fe9e849abc54",
   "metadata": {},
   "outputs": [],
   "source": [
    "lb = LabelBinarizer()\n",
    "labels_bin = lb.fit_transform(labels)"
   ]
  },
  {
   "cell_type": "code",
   "execution_count": 16,
   "id": "0757dad5-2cf2-47d6-9a88-c8eadda36bac",
   "metadata": {},
   "outputs": [],
   "source": [
    "(X_train ,X_test ,y_train ,y_test) = train_test_split(data,labels_bin,test_size=0.2,stratify=labels,random_state=42)"
   ]
  },
  {
   "cell_type": "code",
   "execution_count": 18,
   "id": "781a6c23-1d2c-4eae-9386-14533b49948b",
   "metadata": {},
   "outputs": [
    {
     "name": "stdout",
     "output_type": "stream",
     "text": [
      "X_train : (7285, 244, 244, 3)\n",
      "X_test : (1822, 244, 244, 3)\n",
      "y_train : (7285, 15)\n",
      "y_test : (1822, 15)\n"
     ]
    }
   ],
   "source": [
    "print(\"X_train :\",X_train.shape)\n",
    "print(\"X_test :\",X_test.shape)\n",
    "print(\"y_train :\",y_train.shape)\n",
    "print(\"y_test :\",y_test.shape)"
   ]
  },
  {
   "cell_type": "code",
   "execution_count": 19,
   "id": "f6619fad-7b7d-4fc7-92d3-f1a4b03e904e",
   "metadata": {},
   "outputs": [],
   "source": [
    "trainingAug = ImageDataGenerator(rotation_range=30,zoom_range=0.15,width_shift_range=0.2,height_shift_range=0.2,shear_range=0.15,horizontal_flip=True,fill_mode='nearest')"
   ]
  },
  {
   "cell_type": "code",
   "execution_count": 20,
   "id": "a728dc26-e567-40eb-8bef-8a8a9dce531d",
   "metadata": {},
   "outputs": [],
   "source": [
    "validationAug = ImageDataGenerator()\n",
    "mean = np.array([123.68,116.779,103.939], dtype='float32')\n",
    "trainingAug.mean = mean\n",
    "validationAug.mean = mean"
   ]
  },
  {
   "cell_type": "code",
   "execution_count": 21,
   "id": "5b770540-0780-4028-9032-d350a7571cc5",
   "metadata": {},
   "outputs": [],
   "source": [
    "from keras.applications.resnet import ResNet50\n",
    "\n",
    "from keras.layers import Input\n",
    "from keras.layers.pooling import AveragePooling2D\n",
    "from keras.layers.core import Flatten\n",
    "from keras.layers.core import Dense\n",
    "\n",
    "from keras.layers.core import Dropout\n",
    "from keras.models import Model"
   ]
  },
  {
   "cell_type": "code",
   "execution_count": 22,
   "id": "f59be835-c52a-4860-8fe0-f03c68cf228b",
   "metadata": {},
   "outputs": [],
   "source": [
    "baseModel = ResNet50(weights='imagenet', include_top=False, input_tensor=Input(shape=(244,244,3)))"
   ]
  },
  {
   "cell_type": "code",
   "execution_count": 23,
   "id": "65e11e1f-7fd3-4f0b-81c1-cabd98d2b064",
   "metadata": {},
   "outputs": [],
   "source": [
    "headModel = baseModel.output\n",
    "headModel = AveragePooling2D(pool_size=(7,7))(headModel)\n",
    "headModel = Flatten(name='flatten')(headModel)\n",
    "headModel = Dense(512, activation='relu')(headModel)\n",
    "headModel = Dropout(0.5)(headModel)\n",
    "headModel = Dense(len(lb.classes_), activation='softmax')(headModel)\n",
    "model = Model(inputs = baseModel.input, outputs=headModel)\n",
    "\n",
    "for baseModelLayers in baseModel.layers:\n",
    "    baseModelLayers.trainable = False"
   ]
  },
  {
   "cell_type": "code",
   "execution_count": 28,
   "id": "0d9a271c-e965-406f-b898-b5d9a4090896",
   "metadata": {},
   "outputs": [],
   "source": [
    "import tensorflow as tf\n",
    "from tensorflow.keras.optimizers import SGD"
   ]
  },
  {
   "cell_type": "code",
   "execution_count": 29,
   "id": "aa3eac9d-515e-4d6c-af0d-361385fb470f",
   "metadata": {},
   "outputs": [],
   "source": [
    "opt = tf.keras.optimizers.Adam(\n",
    "    learning_rate=0.001,\n",
    "    beta_1=0.9,\n",
    "    beta_2=0.999,\n",
    "    epsilon=1e-07,\n",
    "    amsgrad=False,\n",
    "    name='Adam'\n",
    ")"
   ]
  },
  {
   "cell_type": "code",
   "execution_count": 30,
   "id": "328db3f4-223d-41be-94b7-7f5fdc6fcdcb",
   "metadata": {},
   "outputs": [],
   "source": [
    "model.compile(loss=\"categorical_crossentropy\",optimizer=opt,metrics=[\"accuracy\"])"
   ]
  },
  {
   "cell_type": "code",
   "execution_count": 1,
   "id": "bdd5edaf-8787-4654-9ccb-4dd52c75b9d9",
   "metadata": {},
   "outputs": [
    {
     "name": "stdout",
     "output_type": "stream",
     "text": [
      "Num GPUs Available:  0\n"
     ]
    }
   ],
   "source": [
    "import tensorflow as tf\n",
    "print(\"Num GPUs Available: \", len(tf.config.experimental.list_physical_devices('GPU')))"
   ]
  },
  {
   "cell_type": "code",
   "execution_count": 32,
   "id": "1f42aff1-c9e7-481c-b1c8-acb587d389c3",
   "metadata": {},
   "outputs": [
    {
     "name": "stderr",
     "output_type": "stream",
     "text": [
      "C:\\Users\\aman8\\anaconda3\\envs\\tensorflow_gpuenv\\lib\\site-packages\\keras\\engine\\training.py:1972: UserWarning: `Model.fit_generator` is deprecated and will be removed in a future version. Please use `Model.fit`, which supports generators.\n",
      "  warnings.warn('`Model.fit_generator` is deprecated and '\n"
     ]
    },
    {
     "name": "stdout",
     "output_type": "stream",
     "text": [
      "Epoch 1/20\n",
      "227/227 [==============================] - 159s 641ms/step - loss: 0.2485 - accuracy: 0.9320 - val_loss: 0.0021 - val_accuracy: 1.0000\n",
      "Epoch 2/20\n",
      "227/227 [==============================] - 144s 635ms/step - loss: 0.0270 - accuracy: 0.9928 - val_loss: 0.0021 - val_accuracy: 0.9994\n",
      "Epoch 3/20\n",
      "227/227 [==============================] - 140s 615ms/step - loss: 0.0105 - accuracy: 0.9975 - val_loss: 1.6849e-04 - val_accuracy: 1.0000\n",
      "Epoch 4/20\n",
      "227/227 [==============================] - 141s 621ms/step - loss: 0.0284 - accuracy: 0.9912 - val_loss: 3.5717e-04 - val_accuracy: 1.0000\n",
      "Epoch 5/20\n",
      "227/227 [==============================] - 145s 639ms/step - loss: 0.0215 - accuracy: 0.9945 - val_loss: 6.9514e-05 - val_accuracy: 1.0000\n",
      "Epoch 6/20\n",
      "227/227 [==============================] - 132s 581ms/step - loss: 0.0145 - accuracy: 0.9955 - val_loss: 8.1063e-05 - val_accuracy: 1.0000\n",
      "Epoch 7/20\n",
      "227/227 [==============================] - 141s 622ms/step - loss: 0.0187 - accuracy: 0.9941 - val_loss: 0.0171 - val_accuracy: 0.9972\n",
      "Epoch 8/20\n",
      "227/227 [==============================] - 138s 607ms/step - loss: 0.0337 - accuracy: 0.9899 - val_loss: 2.1845e-04 - val_accuracy: 1.0000\n",
      "Epoch 9/20\n",
      "227/227 [==============================] - 136s 600ms/step - loss: 0.0311 - accuracy: 0.9903 - val_loss: 0.0020 - val_accuracy: 0.9994\n",
      "Epoch 10/20\n",
      "227/227 [==============================] - 129s 569ms/step - loss: 0.0431 - accuracy: 0.9886 - val_loss: 0.0085 - val_accuracy: 0.9978\n",
      "Epoch 11/20\n",
      "227/227 [==============================] - 134s 588ms/step - loss: 0.0112 - accuracy: 0.9961 - val_loss: 0.0074 - val_accuracy: 0.9978\n",
      "Epoch 12/20\n",
      "227/227 [==============================] - 133s 587ms/step - loss: 0.0135 - accuracy: 0.9956 - val_loss: 3.2536e-05 - val_accuracy: 1.0000\n",
      "Epoch 13/20\n",
      "227/227 [==============================] - 136s 600ms/step - loss: 0.0155 - accuracy: 0.9949 - val_loss: 8.2045e-05 - val_accuracy: 1.0000\n",
      "Epoch 14/20\n",
      "227/227 [==============================] - 124s 544ms/step - loss: 0.0118 - accuracy: 0.9966 - val_loss: 6.4482e-05 - val_accuracy: 1.0000\n",
      "Epoch 15/20\n",
      "227/227 [==============================] - 134s 591ms/step - loss: 0.0094 - accuracy: 0.9974 - val_loss: 2.9695e-07 - val_accuracy: 1.0000\n",
      "Epoch 16/20\n",
      "227/227 [==============================] - 127s 560ms/step - loss: 0.0244 - accuracy: 0.9939 - val_loss: 0.0056 - val_accuracy: 0.9978\n",
      "Epoch 17/20\n",
      "227/227 [==============================] - 134s 589ms/step - loss: 0.0257 - accuracy: 0.9935 - val_loss: 5.7848e-04 - val_accuracy: 0.9994\n",
      "Epoch 18/20\n",
      "227/227 [==============================] - 121s 533ms/step - loss: 0.0278 - accuracy: 0.9928 - val_loss: 0.0051 - val_accuracy: 0.9994\n",
      "Epoch 19/20\n",
      "227/227 [==============================] - 123s 542ms/step - loss: 0.0164 - accuracy: 0.9961 - val_loss: 2.0078e-04 - val_accuracy: 1.0000\n",
      "Epoch 20/20\n",
      "227/227 [==============================] - 130s 572ms/step - loss: 0.0108 - accuracy: 0.9978 - val_loss: 4.0185e-06 - val_accuracy: 1.0000\n"
     ]
    }
   ],
   "source": [
    "history = model.fit_generator(\n",
    "                              trainingAug.flow(X_train,y_train, batch_size=32),\n",
    "                              steps_per_epoch= len(X_train) // 32,\n",
    "                              validation_data=validationAug.flow(X_test,y_test),\n",
    "                              validation_steps=len(X_test) // 32,\n",
    "                              epochs = 20)"
   ]
  },
  {
   "cell_type": "code",
   "execution_count": 34,
   "id": "343036b6-01c7-4457-8912-b56f1b036b57",
   "metadata": {},
   "outputs": [
    {
     "name": "stderr",
     "output_type": "stream",
     "text": [
      "C:\\Users\\aman8\\anaconda3\\envs\\tensorflow_gpuenv\\lib\\site-packages\\keras\\utils\\generic_utils.py:494: CustomMaskWarning: Custom mask layers require a config and must override get_config. When loading, the custom mask layer must be passed to the custom_objects argument.\n",
      "  warnings.warn('Custom mask layers require a config and must override '\n"
     ]
    }
   ],
   "source": [
    "model.save('resnet50.hdf5')"
   ]
  },
  {
   "cell_type": "code",
   "execution_count": 35,
   "id": "d47d91ee",
   "metadata": {},
   "outputs": [
    {
     "data": {
      "image/png": "[encoded data removed]",
      "text/plain": [
       "<Figure size 432x288 with 1 Axes>"
      ]
     },
     "metadata": {},
     "output_type": "display_data"
    }
   ],
   "source": [
    "# plot the training loss and accuracy\n",
    "N = 20\n",
    "plt.style.use(\"ggplot\")\n",
    "plt.figure()\n",
    "plt.plot(np.arange(0, N), history.history[\"loss\"], label=\"train_loss\")\n",
    "plt.plot(np.arange(0, N), history.history[\"val_loss\"], label=\"val_loss\")\n",
    "plt.plot(np.arange(0, N), history.history[\"accuracy\"], label=\"train_acc\")\n",
    "plt.plot(np.arange(0, N), history.history[\"val_accuracy\"], label=\"val_acc\")\n",
    "plt.title(\"Training Loss and Accuracy\")\n",
    "plt.xlabel(\"Epoch #\")\n",
    "plt.ylabel(\"Loss/Accuracy\")\n",
    "plt.legend(loc=\"center right\")\n",
    "plt.savefig(\"CNN_Model\")"
   ]
  },
  {
   "cell_type": "code",
   "execution_count": null,
   "id": "508283b0",
   "metadata": {},
   "outputs": [],
   "source": []
  }
 ],
 "metadata": {
  "kernelspec": {
   "display_name": "Python 3 (ipykernel)",
   "language": "python",
   "name": "python3"
  },
  "language_info": {
   "codemirror_mode": {
    "name": "ipython",
    "version": 3
   },
   "file_extension": ".py",
   "mimetype": "text/x-python",
   "name": "python",
   "nbconvert_exporter": "python",
   "pygments_lexer": "ipython3",
   "version": "3.9.7"
  }
 },
 "nbformat": 4,
 "nbformat_minor": 5
}
