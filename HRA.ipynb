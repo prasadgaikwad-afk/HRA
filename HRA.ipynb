{
 "cells": [
  {
   "cell_type": "code",
   "execution_count": 39,
   "id": "482a9f0b-8907-4fd5-9735-027b571f2da6",
   "metadata": {},
   "outputs": [],
   "source": [
    "import os\n",
    "import cv2\n",
    "import glob\n",
    "import numpy as np\n",
    "import matplotlib.pyplot as plt"
   ]
  },
  {
   "cell_type": "markdown",
   "id": "2f12065f-a937-4a2f-aff3-2a6a8e6fae8e",
   "metadata": {},
   "source": [
    "## *Data preprocessing*\n",
    "### We cant feed videos to CNN model directly. Since a video is just a series of frames the approach will be:\n",
    "#### 1) Loop over all frames in the video file\n",
    "#### 2) For each frame, pass the frame through the CNN\n",
    "#### 3) Obtain the predictions from the CNN\n",
    "#### 4) Maintain a list of the last K predictions\n",
    "#### 5) Compute the average of the last K predictions and choose the label with the largest corresponding probability\n",
    "#### 6) Label the frame and write the output frame to disk"
   ]
  },
  {
   "cell_type": "markdown",
   "id": "37338aa9-c5b4-48fb-a1a0-aff8e0a38a64",
   "metadata": {},
   "source": [
    "## *Converting videos into frames and writing them in a seprate folder*"
   ]
  },
  {
   "cell_type": "code",
   "execution_count": 2,
   "id": "27d5d622-232e-4c23-9896-c6d8d8a206b6",
   "metadata": {},
   "outputs": [],
   "source": [
    "data_path = 'C:/Users/ppras/ML/HRA/sample_videos/'"
   ]
  },
  {
   "cell_type": "markdown",
   "id": "12fba58a-ce1a-4ca8-9c59-e9a0ec81ec80",
   "metadata": {},
   "source": [
    "### Labeling different categories"
   ]
  },
  {
   "cell_type": "code",
   "execution_count": 3,
   "id": "8e742d3b-f5c9-43b0-a9dd-2afd8f7c49c1",
   "metadata": {},
   "outputs": [],
   "source": [
    "categoeries = os.listdir(data_path)\n",
    "labels = [i for i in range(len(categoeries))]\n",
    "label_dict = dict(zip(categoeries, labels))"
   ]
  },
  {
   "cell_type": "code",
   "execution_count": 4,
   "id": "04398d0a-4a13-4ebc-afb7-ac8c8358240a",
   "metadata": {},
   "outputs": [
    {
     "name": "stdout",
     "output_type": "stream",
     "text": [
      "{'Bowling': 0, 'Boxing': 1, 'Brushing_Teeth': 2, 'Fencing': 3, 'Handstand': 4, 'tennis': 5, 'typing': 6, 'Walkng_witthDog': 7, 'writing_on_board': 8, 'yo_yo': 9}\n",
      "['Bowling', 'Boxing', 'Brushing_Teeth', 'Fencing', 'Handstand', 'tennis', 'typing', 'Walkng_witthDog', 'writing_on_board', 'yo_yo']\n",
      "[0, 1, 2, 3, 4, 5, 6, 7, 8, 9]\n"
     ]
    }
   ],
   "source": [
    "print(label_dict)\n",
    "print(categoeries)\n",
    "print(labels)"
   ]
  },
  {
   "cell_type": "markdown",
   "id": "101209e2-b166-4d83-9b74-091b5ce2908f",
   "metadata": {},
   "source": [
    "### For testing purpose we have short listed 10 activities the are:\n",
    "#### 'Bowling', 'Boxing', 'Brushing_Teeth', 'Fencing', 'Handstand', 'tennis', 'typing', 'Walkng_witthDog', 'writing_on_board', 'yo_yo'"
   ]
  },
  {
   "cell_type": "code",
   "execution_count": 5,
   "id": "8b64bf37-313b-4d4d-9672-17b863a7df68",
   "metadata": {},
   "outputs": [],
   "source": [
    "root_path = 'C:/Users/ppras/ML/HRA/frames/' # Path for writing frames from videos"
   ]
  },
  {
   "cell_type": "markdown",
   "id": "675caf92-9f31-4f36-8c09-d9312b1e8c13",
   "metadata": {},
   "source": [
    "### Reducing dimensions of pixels to (100x100)"
   ]
  },
  {
   "cell_type": "code",
   "execution_count": 8,
   "id": "825a4253-10c0-4415-b2de-5935eef83244",
   "metadata": {},
   "outputs": [],
   "source": [
    "folder_count = 0\n",
    "img_size=100\n",
    "for items in categoeries: #looping over folders in categoeries\n",
    "    path = os.path.join(root_path, items) \n",
    "    folder_path = os.path.join(data_path,items)\n",
    "    img_names = os.listdir(folder_path) # Listing all files inside the directory\n",
    "    os.mkdir(path)\n",
    "    img_count= 0\n",
    "    folder_count +=1\n",
    "    \n",
    "    for img_name in img_names:\n",
    "            cap = cv2.VideoCapture(os.path.join(folder_path, img_name)) # Capcturing video and dividing it by frames\n",
    "            success, image = cap.read()\n",
    "            while success:\n",
    "                success, image = cap.read()\n",
    "                if not success:\n",
    "                    break\n",
    "                \n",
    "                \n",
    "                #gray_image = cv2.cvtColor(image, cv2.COLOR_BGR2GRAY) # Converting coloured image to greyScale\n",
    "                #norm = cv2.normalize(gray_image, None, alpha=0,beta=200, norm_type=cv2.NORM_MINMAX) # Normalize image\n",
    "                #resized_up = cv2.resize(image, down_points, interpolation= cv2.INTER_LINEAR) # Resizing image\n",
    "                resized=cv2.resize(image,(img_size,img_size))\n",
    "                cv2.imwrite(path + '/' + items +str(img_count) + '.jpg' , resized) # Writing image into to specified class with its class name \n",
    "                \n",
    "                img_count += 1\n",
    "            "
   ]
  },
  {
   "cell_type": "code",
   "execution_count": 9,
   "id": "ea81b114-d664-4e14-985e-044657297653",
   "metadata": {},
   "outputs": [],
   "source": [
    "frames_path = 'C:/Users/ppras/ML/HRA/frames/'"
   ]
  },
  {
   "cell_type": "code",
   "execution_count": 10,
   "id": "7b0d1c7d-e5de-4c05-9a26-9cbb5bdb8ade",
   "metadata": {},
   "outputs": [],
   "source": [
    "frames = os.listdir(frames_path)\n",
    "label = [i for i in range(len(frames))]"
   ]
  },
  {
   "cell_type": "code",
   "execution_count": 11,
   "id": "66b37a17-af06-4a5b-8a5b-b02d0fd26351",
   "metadata": {},
   "outputs": [],
   "source": [
    "label_frames = dict(zip(frames,label))"
   ]
  },
  {
   "cell_type": "code",
   "execution_count": 12,
   "id": "14bfb429-cee2-4dd2-9e4c-d3fefd93331d",
   "metadata": {},
   "outputs": [
    {
     "name": "stdout",
     "output_type": "stream",
     "text": [
      "{'Bowling': 0, 'Boxing': 1, 'Brushing_Teeth': 2, 'Fencing': 3, 'Handstand': 4, 'tennis': 5, 'typing': 6, 'Walkng_witthDog': 7, 'writing_on_board': 8, 'yo_yo': 9}\n",
      "['Bowling', 'Boxing', 'Brushing_Teeth', 'Fencing', 'Handstand', 'tennis', 'typing', 'Walkng_witthDog', 'writing_on_board', 'yo_yo']\n",
      "[0, 1, 2, 3, 4, 5, 6, 7, 8, 9]\n"
     ]
    }
   ],
   "source": [
    "print(label_frames)\n",
    "print(frames)\n",
    "print(label)"
   ]
  },
  {
   "cell_type": "code",
   "execution_count": 13,
   "id": "a70cb8d1-7559-4e16-b065-13575a9e24d6",
   "metadata": {},
   "outputs": [],
   "source": [
    "\n",
    "data=[] # Appending images as array in the list\n",
    "target=[] #Target list to make prediction"
   ]
  },
  {
   "cell_type": "code",
   "execution_count": 14,
   "id": "935bb7a1-41d9-46df-ad31-92ed1d167c4d",
   "metadata": {},
   "outputs": [],
   "source": [
    "\n",
    "for frame in frames:\n",
    "    frame_path = os.path.join(frames_path, frame)\n",
    "    img_frames = os.listdir(frame_path)\n",
    "    \n",
    "    for img_frame in img_frames:\n",
    "        imgPath = os.path.join(frame_path, img_frame)\n",
    "        frm = cv2.imread(imgPath)\n",
    "        data.append(frm)\n",
    "        target.append(label_frames[frame])\n",
    "        \n",
    "    "
   ]
  },
  {
   "cell_type": "markdown",
   "id": "742ce1ea-0635-4d74-b20a-91378d971445",
   "metadata": {},
   "source": [
    "### Recale and assign catagorical lables"
   ]
  },
  {
   "cell_type": "code",
   "execution_count": 15,
   "id": "b75b6c4b-b190-411e-9e00-e3cf0c40edba",
   "metadata": {},
   "outputs": [],
   "source": [
    "data=np.array(data)/255.0\n",
    "data=np.reshape(data,(data.shape[0],img_size,img_size,3))\n",
    "target=np.array(target)\n",
    "from keras.utils import np_utils\n",
    "new_target=np_utils.to_categorical(target)"
   ]
  },
  {
   "cell_type": "code",
   "execution_count": 16,
   "id": "23727e04-1edd-4524-9330-a71d240a9b71",
   "metadata": {},
   "outputs": [
    {
     "data": {
      "text/plain": [
       "(6918, 100, 100, 3)"
      ]
     },
     "execution_count": 16,
     "metadata": {},
     "output_type": "execute_result"
    }
   ],
   "source": [
    "data.shape"
   ]
  },
  {
   "cell_type": "code",
   "execution_count": 17,
   "id": "e0c8c454-aff8-4e7a-91dc-9fb549ad368e",
   "metadata": {},
   "outputs": [
    {
     "data": {
      "text/plain": [
       "(6918, 10)"
      ]
     },
     "execution_count": 17,
     "metadata": {},
     "output_type": "execute_result"
    }
   ],
   "source": [
    "new_target.shape"
   ]
  },
  {
   "cell_type": "code",
   "execution_count": null,
   "id": "3c500eff-4d90-4227-a0bf-192a25613a1f",
   "metadata": {},
   "outputs": [],
   "source": []
  },
  {
   "cell_type": "markdown",
   "id": "10364b0e-7952-444f-8e69-b0cdac17c095",
   "metadata": {},
   "source": [
    "## CNN"
   ]
  },
  {
   "cell_type": "code",
   "execution_count": 18,
   "id": "9614f73d-0892-469b-91bc-ed22d472c4b7",
   "metadata": {},
   "outputs": [
    {
     "data": {
      "text/plain": [
       "(6918, 100, 100, 3)"
      ]
     },
     "execution_count": 18,
     "metadata": {},
     "output_type": "execute_result"
    }
   ],
   "source": [
    "data.shape"
   ]
  },
  {
   "cell_type": "code",
   "execution_count": 19,
   "id": "d71ff211-d823-44ec-b30a-8d2ed12196c2",
   "metadata": {},
   "outputs": [
    {
     "data": {
      "text/plain": [
       "(100, 100, 3)"
      ]
     },
     "execution_count": 19,
     "metadata": {},
     "output_type": "execute_result"
    }
   ],
   "source": [
    "data.shape[1:]"
   ]
  },
  {
   "cell_type": "code",
   "execution_count": null,
   "id": "0619272e-a8d3-4b06-8c2e-ef09726ab0c9",
   "metadata": {},
   "outputs": [],
   "source": []
  },
  {
   "cell_type": "code",
   "execution_count": 28,
   "id": "357b61c3-5002-4b1e-9787-00c91a2a7216",
   "metadata": {},
   "outputs": [],
   "source": [
    "from keras.models import Sequential\n",
    "from keras.layers import Dense,Activation,Flatten,Dropout\n",
    "from keras.layers import Conv2D,MaxPooling2D\n",
    "from keras.callbacks import ModelCheckpoint"
   ]
  },
  {
   "cell_type": "code",
   "execution_count": 29,
   "id": "711cb0d3-d08f-4dfb-bd35-0995ff01b97a",
   "metadata": {},
   "outputs": [],
   "source": [
    "model = Sequential()"
   ]
  },
  {
   "cell_type": "code",
   "execution_count": 30,
   "id": "d6de0419-47b2-4791-8d65-1dbafecde203",
   "metadata": {},
   "outputs": [],
   "source": [
    "model.add(Conv2D(200,(3,3),input_shape=data.shape[1:]))\n",
    "model.add(Activation('relu'))\n",
    "model.add(MaxPooling2D(pool_size=(2,2)))\n",
    "\n",
    "model.add(Conv2D(100,(3,3)))\n",
    "model.add(Activation('relu'))\n",
    "model.add(MaxPooling2D(pool_size=(2,2)))\n",
    "\n",
    "model.add(Flatten())\n",
    "model.add(Dropout(0.5))\n",
    "\n",
    "model.add(Dense(50,activation='relu'))\n",
    "\n",
    "model.add(Dense(10,activation='softmax'))\n",
    "\n",
    "model.compile(loss='categorical_crossentropy',optimizer='adam',metrics=['accuracy'])"
   ]
  },
  {
   "cell_type": "code",
   "execution_count": 31,
   "id": "c7b41472-bb7b-4575-aba4-e3d680b18f8f",
   "metadata": {},
   "outputs": [
    {
     "name": "stdout",
     "output_type": "stream",
     "text": [
      "Model: \"sequential_1\"\n",
      "_________________________________________________________________\n",
      " Layer (type)                Output Shape              Param #   \n",
      "=================================================================\n",
      " conv2d_2 (Conv2D)           (None, 98, 98, 200)       5600      \n",
      "                                                                 \n",
      " activation_2 (Activation)   (None, 98, 98, 200)       0         \n",
      "                                                                 \n",
      " max_pooling2d_2 (MaxPooling  (None, 49, 49, 200)      0         \n",
      " 2D)                                                             \n",
      "                                                                 \n",
      " conv2d_3 (Conv2D)           (None, 47, 47, 100)       180100    \n",
      "                                                                 \n",
      " activation_3 (Activation)   (None, 47, 47, 100)       0         \n",
      "                                                                 \n",
      " max_pooling2d_3 (MaxPooling  (None, 23, 23, 100)      0         \n",
      " 2D)                                                             \n",
      "                                                                 \n",
      " flatten_1 (Flatten)         (None, 52900)             0         \n",
      "                                                                 \n",
      " dropout_1 (Dropout)         (None, 52900)             0         \n",
      "                                                                 \n",
      " dense_2 (Dense)             (None, 50)                2645050   \n",
      "                                                                 \n",
      " dense_3 (Dense)             (None, 10)                510       \n",
      "                                                                 \n",
      "=================================================================\n",
      "Total params: 2,831,260\n",
      "Trainable params: 2,831,260\n",
      "Non-trainable params: 0\n",
      "_________________________________________________________________\n"
     ]
    }
   ],
   "source": [
    "model.summary()"
   ]
  },
  {
   "cell_type": "code",
   "execution_count": 33,
   "id": "83473b6a-0411-4cb0-889d-f3a7c35741ed",
   "metadata": {},
   "outputs": [],
   "source": [
    "from sklearn.model_selection import train_test_split\n",
    "train_data,test_data,train_target,test_target=train_test_split(data,new_target,test_size=0.2)"
   ]
  },
  {
   "cell_type": "code",
   "execution_count": 34,
   "id": "535326a9-5ebd-481b-b1eb-32dc0122f8d7",
   "metadata": {},
   "outputs": [
    {
     "data": {
      "text/plain": [
       "(5534, 100, 100, 3)"
      ]
     },
     "execution_count": 34,
     "metadata": {},
     "output_type": "execute_result"
    }
   ],
   "source": [
    "train_data.shape"
   ]
  },
  {
   "cell_type": "code",
   "execution_count": 35,
   "id": "3fc4b3d7-e9aa-467c-8c41-0d1c397998ce",
   "metadata": {},
   "outputs": [
    {
     "data": {
      "text/plain": [
       "(5534, 10)"
      ]
     },
     "execution_count": 35,
     "metadata": {},
     "output_type": "execute_result"
    }
   ],
   "source": [
    "train_target.shape"
   ]
  },
  {
   "cell_type": "code",
   "execution_count": 38,
   "id": "5ab09c1a-8552-46bb-bb6c-7254a5230d3c",
   "metadata": {},
   "outputs": [
    {
     "name": "stdout",
     "output_type": "stream",
     "text": [
      "Epoch 1/10\n",
      "139/139 [==============================] - 362s 3s/step - loss: 0.0119 - accuracy: 0.9966 - val_loss: 1.1788e-04 - val_accuracy: 1.0000\n",
      "Epoch 2/10\n",
      "139/139 [==============================] - 574s 4s/step - loss: 8.2753e-05 - accuracy: 1.0000 - val_loss: 4.8866e-05 - val_accuracy: 1.0000\n",
      "Epoch 3/10\n",
      "139/139 [==============================] - 403s 3s/step - loss: 3.1852e-05 - accuracy: 1.0000 - val_loss: 2.0654e-05 - val_accuracy: 1.0000\n",
      "Epoch 4/10\n",
      "139/139 [==============================] - 389s 3s/step - loss: 1.6757e-05 - accuracy: 1.0000 - val_loss: 1.1123e-05 - val_accuracy: 1.0000\n",
      "Epoch 5/10\n",
      "139/139 [==============================] - 444s 3s/step - loss: 8.5546e-06 - accuracy: 1.0000 - val_loss: 6.9477e-06 - val_accuracy: 1.0000\n",
      "Epoch 6/10\n",
      "139/139 [==============================] - 380s 3s/step - loss: 6.8091e-06 - accuracy: 1.0000 - val_loss: 4.9060e-06 - val_accuracy: 1.0000\n",
      "Epoch 7/10\n",
      "139/139 [==============================] - 331s 2s/step - loss: 6.3337e-06 - accuracy: 1.0000 - val_loss: 3.6963e-06 - val_accuracy: 1.0000\n",
      "Epoch 8/10\n",
      "139/139 [==============================] - 361s 3s/step - loss: 4.1215e-06 - accuracy: 1.0000 - val_loss: 2.3444e-06 - val_accuracy: 1.0000\n",
      "Epoch 9/10\n",
      "139/139 [==============================] - 356s 3s/step - loss: 9.4965e-06 - accuracy: 1.0000 - val_loss: 2.9725e-06 - val_accuracy: 1.0000\n",
      "Epoch 10/10\n",
      "139/139 [==============================] - 361s 3s/step - loss: 2.8280e-06 - accuracy: 1.0000 - val_loss: 1.5079e-06 - val_accuracy: 1.0000\n"
     ]
    }
   ],
   "source": [
    "history=model.fit(train_data,train_target,epochs=10,validation_split=0.2)"
   ]
  },
  {
   "cell_type": "code",
   "execution_count": 42,
   "id": "a9078203-3597-4ebe-af39-c4339e787e65",
   "metadata": {},
   "outputs": [
    {
     "data": {
      "image/png": "[encoded data removed]",
      "text/plain": [
       "<Figure size 432x288 with 1 Axes>"
      ]
     },
     "metadata": {},
     "output_type": "display_data"
    }
   ],
   "source": [
    "N = 10\n",
    "plt.style.use(\"ggplot\")\n",
    "plt.figure()\n",
    "plt.plot(np.arange(0, N), history.history[\"loss\"], label=\"train_loss\")\n",
    "plt.plot(np.arange(0, N), history.history[\"val_loss\"], label=\"val_loss\")\n",
    "plt.plot(np.arange(0, N), history.history[\"accuracy\"], label=\"train_acc\")\n",
    "plt.plot(np.arange(0, N), history.history[\"val_accuracy\"], label=\"val_acc\")\n",
    "plt.title(\"Training Loss and Accuracy\")\n",
    "plt.xlabel(\"Epoch #\")\n",
    "plt.ylabel(\"Loss/Accuracy\")\n",
    "plt.legend(loc=\"center right\");"
   ]
  },
  {
   "cell_type": "code",
   "execution_count": null,
   "id": "a57060d1-2aef-4fb7-9152-769b3daa8fea",
   "metadata": {},
   "outputs": [],
   "source": []
  }
 ],
 "metadata": {
  "kernelspec": {
   "display_name": "Python 3 (ipykernel)",
   "language": "python",
   "name": "python3"
  },
  "language_info": {
   "codemirror_mode": {
    "name": "ipython",
    "version": 3
   },
   "file_extension": ".py",
   "mimetype": "text/x-python",
   "name": "python",
   "nbconvert_exporter": "python",
   "pygments_lexer": "ipython3",
   "version": "3.9.7"
  }
 },
 "nbformat": 4,
 "nbformat_minor": 5
}
