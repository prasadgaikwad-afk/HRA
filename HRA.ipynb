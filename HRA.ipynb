{
  "cells": [
    {
      "cell_type": "code",
      "execution_count": 37,
      "id": "482a9f0b-8907-4fd5-9735-027b571f2da6",
      "metadata": {
        "id": "482a9f0b-8907-4fd5-9735-027b571f2da6"
      },
      "outputs": [],
      "source": [
        "import os\n",
        "import cv2\n",
        "import glob\n",
        "import numpy as np\n",
        "import matplotlib.pyplot as plt"
      ]
    },
    {
      "cell_type": "markdown",
      "id": "2f12065f-a937-4a2f-aff3-2a6a8e6fae8e",
      "metadata": {
        "id": "2f12065f-a937-4a2f-aff3-2a6a8e6fae8e"
      },
      "source": [
        "## *Data preprocessing*\n",
        "### We cant feed videos to CNN model directly. Since a video is just a series of frames the approach will be:\n",
        "#### 1) Loop over all frames in the video file\n",
        "#### 2) For each frame, pass the frame through the CNN\n",
        "#### 3) Obtain the predictions from the CNN\n",
        "#### 4) Maintain a list of the last K predictions\n",
        "#### 5) Compute the average of the last K predictions and choose the label with the largest corresponding probability\n",
        "#### 6) Label the frame and write the output frame to disk"
      ]
    },
    {
      "cell_type": "markdown",
      "id": "37338aa9-c5b4-48fb-a1a0-aff8e0a38a64",
      "metadata": {
        "id": "37338aa9-c5b4-48fb-a1a0-aff8e0a38a64"
      },
      "source": [
        "## *Converting videos into frames and writing them in a seprate folder*"
      ]
    },
    {
      "cell_type": "code",
      "execution_count": 38,
      "id": "27d5d622-232e-4c23-9896-c6d8d8a206b6",
      "metadata": {
        "id": "27d5d622-232e-4c23-9896-c6d8d8a206b6"
      },
      "outputs": [],
      "source": [
        "data_path = '/content/drive/MyDrive/Human activity /sample_videos'"
      ]
    },
    {
      "cell_type": "markdown",
      "id": "12fba58a-ce1a-4ca8-9c59-e9a0ec81ec80",
      "metadata": {
        "id": "12fba58a-ce1a-4ca8-9c59-e9a0ec81ec80"
      },
      "source": [
        "### Labeling different categories"
      ]
    },
    {
      "cell_type": "code",
      "execution_count": 39,
      "id": "8e742d3b-f5c9-43b0-a9dd-2afd8f7c49c1",
      "metadata": {
        "id": "8e742d3b-f5c9-43b0-a9dd-2afd8f7c49c1"
      },
      "outputs": [],
      "source": [
        "categoeries = os.listdir(data_path)\n",
        "labels = [i for i in range(len(categoeries))]\n",
        "label_dict = dict(zip(categoeries, labels))"
      ]
    },
    {
      "cell_type": "code",
      "source": [
        "from google.colab import drive\n",
        "drive.mount('/content/drive')"
      ],
      "metadata": {
        "colab": {
          "base_uri": "https://localhost:8080/"
        },
        "id": "TWJ5vR16iEIj",
        "outputId": "05c1e5ce-4e7e-4d50-cef3-5a6a78a2e63a"
      },
      "id": "TWJ5vR16iEIj",
      "execution_count": 40,
      "outputs": [
        {
          "output_type": "stream",
          "name": "stdout",
          "text": [
            "Drive already mounted at /content/drive; to attempt to forcibly remount, call drive.mount(\"/content/drive\", force_remount=True).\n"
          ]
        }
      ]
    },
    {
      "cell_type": "code",
      "execution_count": 41,
      "id": "04398d0a-4a13-4ebc-afb7-ac8c8358240a",
      "metadata": {
        "id": "04398d0a-4a13-4ebc-afb7-ac8c8358240a",
        "colab": {
          "base_uri": "https://localhost:8080/"
        },
        "outputId": "54c57689-5623-444d-984e-e7bab648f11b"
      },
      "outputs": [
        {
          "output_type": "stream",
          "name": "stdout",
          "text": [
            "{'yo_yo': 0, 'typing': 1, 'Walkng_witthDog': 2, 'Fencing': 3, 'tennis': 4, 'writing_on_board': 5, 'Brushing_Teeth': 6, 'Handstand': 7, 'Boxing': 8, 'Bowling': 9}\n",
            "['yo_yo', 'typing', 'Walkng_witthDog', 'Fencing', 'tennis', 'writing_on_board', 'Brushing_Teeth', 'Handstand', 'Boxing', 'Bowling']\n",
            "[0, 1, 2, 3, 4, 5, 6, 7, 8, 9]\n"
          ]
        }
      ],
      "source": [
        "print(label_dict)\n",
        "print(categoeries)\n",
        "print(labels)"
      ]
    },
    {
      "cell_type": "code",
      "source": [
        "frames = '/content/drive/MyDrive/Human activity /frames'\n",
        "if not os.path.exists(frames):\n",
        "    os.makedirs(frames)"
      ],
      "metadata": {
        "id": "CitwaXWamMSa"
      },
      "id": "CitwaXWamMSa",
      "execution_count": 42,
      "outputs": []
    },
    {
      "cell_type": "markdown",
      "id": "101209e2-b166-4d83-9b74-091b5ce2908f",
      "metadata": {
        "id": "101209e2-b166-4d83-9b74-091b5ce2908f"
      },
      "source": [
        "### For testing purpose we have short listed 10 activities the are:\n",
        "#### 'Bowling', 'Boxing', 'Brushing_Teeth', 'Fencing', 'Handstand', 'tennis', 'typing', 'Walkng_witthDog', 'writing_on_board', 'yo_yo'"
      ]
    },
    {
      "cell_type": "code",
      "execution_count": 43,
      "id": "8b64bf37-313b-4d4d-9672-17b863a7df68",
      "metadata": {
        "id": "8b64bf37-313b-4d4d-9672-17b863a7df68"
      },
      "outputs": [],
      "source": [
        "root_path = '/content/drive/MyDrive/Human activity /frames' # Path for writing frames from videos"
      ]
    },
    {
      "cell_type": "markdown",
      "id": "675caf92-9f31-4f36-8c09-d9312b1e8c13",
      "metadata": {
        "id": "675caf92-9f31-4f36-8c09-d9312b1e8c13"
      },
      "source": [
        "### Reducing dimensions of pixels to (100x100)"
      ]
    },
    {
      "cell_type": "code",
      "execution_count": 44,
      "id": "825a4253-10c0-4415-b2de-5935eef83244",
      "metadata": {
        "id": "825a4253-10c0-4415-b2de-5935eef83244"
      },
      "outputs": [],
      "source": [
        "folder_count = 0\n",
        "img_size=100\n",
        "for items in categoeries: #looping over folders in categoeries\n",
        "    path = os.path.join(root_path, items) \n",
        "    folder_path = os.path.join(data_path,items)\n",
        "    img_names = os.listdir(folder_path) # Listing all files inside the directory\n",
        "    os.mkdir(path)\n",
        "    img_count= 0\n",
        "    folder_count +=1\n",
        "    \n",
        "    for img_name in img_names:\n",
        "            cap = cv2.VideoCapture(os.path.join(folder_path, img_name)) # Capcturing video and dividing it by frames\n",
        "            success, image = cap.read()\n",
        "            while success:\n",
        "                success, image = cap.read()\n",
        "                if not success:\n",
        "                    break\n",
        "                \n",
        "                \n",
        "                #gray_image = cv2.cvtColor(image, cv2.COLOR_BGR2GRAY) # Converting coloured image to greyScale\n",
        "                #norm = cv2.normalize(gray_image, None, alpha=0,beta=200, norm_type=cv2.NORM_MINMAX) # Normalize image\n",
        "                #resized_up = cv2.resize(image, down_points, interpolation= cv2.INTER_LINEAR) # Resizing image\n",
        "                resized=cv2.resize(image,(img_size,img_size))\n",
        "                cv2.imwrite(path + '/' + items +str(img_count) + '.jpg' , resized) # Writing image into to specified class with its class name \n",
        "                \n",
        "                img_count += 1\n",
        "            "
      ]
    },
    {
      "cell_type": "code",
      "execution_count": 45,
      "id": "ea81b114-d664-4e14-985e-044657297653",
      "metadata": {
        "id": "ea81b114-d664-4e14-985e-044657297653"
      },
      "outputs": [],
      "source": [
        "frames_path = '/content/drive/MyDrive/Human activity /frames'"
      ]
    },
    {
      "cell_type": "code",
      "execution_count": 46,
      "id": "7b0d1c7d-e5de-4c05-9a26-9cbb5bdb8ade",
      "metadata": {
        "id": "7b0d1c7d-e5de-4c05-9a26-9cbb5bdb8ade"
      },
      "outputs": [],
      "source": [
        "frames = os.listdir(frames_path)\n",
        "label = [i for i in range(len(frames))]"
      ]
    },
    {
      "cell_type": "code",
      "execution_count": 47,
      "id": "66b37a17-af06-4a5b-8a5b-b02d0fd26351",
      "metadata": {
        "id": "66b37a17-af06-4a5b-8a5b-b02d0fd26351"
      },
      "outputs": [],
      "source": [
        "label_frames = dict(zip(frames,label))"
      ]
    },
    {
      "cell_type": "code",
      "execution_count": 48,
      "id": "14bfb429-cee2-4dd2-9e4c-d3fefd93331d",
      "metadata": {
        "id": "14bfb429-cee2-4dd2-9e4c-d3fefd93331d",
        "colab": {
          "base_uri": "https://localhost:8080/"
        },
        "outputId": "e51fcf83-c5c7-4411-e3b7-603d3da0ed9f"
      },
      "outputs": [
        {
          "output_type": "stream",
          "name": "stdout",
          "text": [
            "{'yo_yo': 0, 'typing': 1, 'Walkng_witthDog': 2, 'Fencing': 3, 'tennis': 4, 'writing_on_board': 5, 'Brushing_Teeth': 6, 'Handstand': 7, 'Boxing': 8, 'Bowling': 9}\n",
            "['yo_yo', 'typing', 'Walkng_witthDog', 'Fencing', 'tennis', 'writing_on_board', 'Brushing_Teeth', 'Handstand', 'Boxing', 'Bowling']\n",
            "[0, 1, 2, 3, 4, 5, 6, 7, 8, 9]\n"
          ]
        }
      ],
      "source": [
        "print(label_frames)\n",
        "print(frames)\n",
        "print(label)"
      ]
    },
    {
      "cell_type": "code",
      "execution_count": 49,
      "id": "a70cb8d1-7559-4e16-b065-13575a9e24d6",
      "metadata": {
        "id": "a70cb8d1-7559-4e16-b065-13575a9e24d6"
      },
      "outputs": [],
      "source": [
        "\n",
        "data=[] # Appending images as array in the list\n",
        "target=[] #Target list to make prediction"
      ]
    },
    {
      "cell_type": "code",
      "execution_count": 50,
      "id": "935bb7a1-41d9-46df-ad31-92ed1d167c4d",
      "metadata": {
        "id": "935bb7a1-41d9-46df-ad31-92ed1d167c4d"
      },
      "outputs": [],
      "source": [
        "\n",
        "for frame in frames:\n",
        "    frame_path = os.path.join(frames_path, frame)\n",
        "    img_frames = os.listdir(frame_path)\n",
        "    \n",
        "    for img_frame in img_frames:\n",
        "        imgPath = os.path.join(frame_path, img_frame)\n",
        "        frm = cv2.imread(imgPath)\n",
        "        data.append(frm)\n",
        "        target.append(label_frames[frame])\n",
        "        \n",
        "    "
      ]
    },
    {
      "cell_type": "markdown",
      "id": "742ce1ea-0635-4d74-b20a-91378d971445",
      "metadata": {
        "id": "742ce1ea-0635-4d74-b20a-91378d971445"
      },
      "source": [
        "### Recale and assign catagorical lables"
      ]
    },
    {
      "cell_type": "code",
      "execution_count": 51,
      "id": "b75b6c4b-b190-411e-9e00-e3cf0c40edba",
      "metadata": {
        "id": "b75b6c4b-b190-411e-9e00-e3cf0c40edba"
      },
      "outputs": [],
      "source": [
        "data=np.array(data)/255.0\n",
        "data=np.reshape(data,(data.shape[0],img_size,img_size,3))\n",
        "target=np.array(target)\n",
        "from keras.utils import np_utils\n",
        "new_target=np_utils.to_categorical(target)"
      ]
    },
    {
      "cell_type": "code",
      "execution_count": 52,
      "id": "23727e04-1edd-4524-9330-a71d240a9b71",
      "metadata": {
        "id": "23727e04-1edd-4524-9330-a71d240a9b71",
        "colab": {
          "base_uri": "https://localhost:8080/"
        },
        "outputId": "f1def598-ed3b-4d83-cce1-a14c4b7f398e"
      },
      "outputs": [
        {
          "output_type": "execute_result",
          "data": {
            "text/plain": [
              "(6918, 100, 100, 3)"
            ]
          },
          "metadata": {},
          "execution_count": 52
        }
      ],
      "source": [
        "data.shape"
      ]
    },
    {
      "cell_type": "code",
      "execution_count": 53,
      "id": "e0c8c454-aff8-4e7a-91dc-9fb549ad368e",
      "metadata": {
        "id": "e0c8c454-aff8-4e7a-91dc-9fb549ad368e",
        "colab": {
          "base_uri": "https://localhost:8080/"
        },
        "outputId": "ed5f009a-3b87-4624-9a21-838c1c7c52d2"
      },
      "outputs": [
        {
          "output_type": "execute_result",
          "data": {
            "text/plain": [
              "(6918, 10)"
            ]
          },
          "metadata": {},
          "execution_count": 53
        }
      ],
      "source": [
        "new_target.shape"
      ]
    },
    {
      "cell_type": "code",
      "execution_count": 53,
      "id": "3c500eff-4d90-4227-a0bf-192a25613a1f",
      "metadata": {
        "id": "3c500eff-4d90-4227-a0bf-192a25613a1f"
      },
      "outputs": [],
      "source": [
        ""
      ]
    },
    {
      "cell_type": "markdown",
      "id": "10364b0e-7952-444f-8e69-b0cdac17c095",
      "metadata": {
        "id": "10364b0e-7952-444f-8e69-b0cdac17c095"
      },
      "source": [
        "## CNN"
      ]
    },
    {
      "cell_type": "code",
      "execution_count": 54,
      "id": "9614f73d-0892-469b-91bc-ed22d472c4b7",
      "metadata": {
        "id": "9614f73d-0892-469b-91bc-ed22d472c4b7",
        "colab": {
          "base_uri": "https://localhost:8080/"
        },
        "outputId": "7333eb4c-317c-46b4-de16-d5016b69af87"
      },
      "outputs": [
        {
          "output_type": "execute_result",
          "data": {
            "text/plain": [
              "(6918, 100, 100, 3)"
            ]
          },
          "metadata": {},
          "execution_count": 54
        }
      ],
      "source": [
        "data.shape"
      ]
    },
    {
      "cell_type": "code",
      "execution_count": 55,
      "id": "d71ff211-d823-44ec-b30a-8d2ed12196c2",
      "metadata": {
        "id": "d71ff211-d823-44ec-b30a-8d2ed12196c2",
        "colab": {
          "base_uri": "https://localhost:8080/"
        },
        "outputId": "55e076cb-3558-4983-bf8c-da995bdc2961"
      },
      "outputs": [
        {
          "output_type": "execute_result",
          "data": {
            "text/plain": [
              "(100, 100, 3)"
            ]
          },
          "metadata": {},
          "execution_count": 55
        }
      ],
      "source": [
        "data.shape[1:]"
      ]
    },
    {
      "cell_type": "code",
      "execution_count": 55,
      "id": "0619272e-a8d3-4b06-8c2e-ef09726ab0c9",
      "metadata": {
        "id": "0619272e-a8d3-4b06-8c2e-ef09726ab0c9"
      },
      "outputs": [],
      "source": [
        ""
      ]
    },
    {
      "cell_type": "code",
      "execution_count": 56,
      "id": "357b61c3-5002-4b1e-9787-00c91a2a7216",
      "metadata": {
        "id": "357b61c3-5002-4b1e-9787-00c91a2a7216"
      },
      "outputs": [],
      "source": [
        "from keras.models import Sequential\n",
        "from keras.layers import Dense,Activation,Flatten,Dropout\n",
        "from keras.layers import Conv2D,MaxPooling2D\n",
        "from keras.callbacks import ModelCheckpoint"
      ]
    },
    {
      "cell_type": "code",
      "execution_count": 57,
      "id": "711cb0d3-d08f-4dfb-bd35-0995ff01b97a",
      "metadata": {
        "id": "711cb0d3-d08f-4dfb-bd35-0995ff01b97a"
      },
      "outputs": [],
      "source": [
        "model = Sequential()"
      ]
    },
    {
      "cell_type": "code",
      "execution_count": 58,
      "id": "d6de0419-47b2-4791-8d65-1dbafecde203",
      "metadata": {
        "id": "d6de0419-47b2-4791-8d65-1dbafecde203"
      },
      "outputs": [],
      "source": [
        "model.add(Conv2D(200,(3,3),input_shape=data.shape[1:]))\n",
        "model.add(Activation('relu'))\n",
        "model.add(MaxPooling2D(pool_size=(2,2)))\n",
        "\n",
        "model.add(Conv2D(100,(3,3)))\n",
        "model.add(Activation('relu'))\n",
        "model.add(MaxPooling2D(pool_size=(2,2)))\n",
        "\n",
        "model.add(Flatten())\n",
        "model.add(Dropout(0.5))\n",
        "\n",
        "model.add(Dense(50,activation='relu'))\n",
        "\n",
        "model.add(Dense(10,activation='softmax'))\n",
        "\n",
        "model.compile(loss='categorical_crossentropy',optimizer='adam',metrics=['accuracy'])"
      ]
    },
    {
      "cell_type": "code",
      "execution_count": 59,
      "id": "c7b41472-bb7b-4575-aba4-e3d680b18f8f",
      "metadata": {
        "id": "c7b41472-bb7b-4575-aba4-e3d680b18f8f",
        "colab": {
          "base_uri": "https://localhost:8080/"
        },
        "outputId": "d5cf0f80-eff9-432a-ce60-e17e9a89380d"
      },
      "outputs": [
        {
          "output_type": "stream",
          "name": "stdout",
          "text": [
            "Model: \"sequential\"\n",
            "_________________________________________________________________\n",
            " Layer (type)                Output Shape              Param #   \n",
            "=================================================================\n",
            " conv2d (Conv2D)             (None, 98, 98, 200)       5600      \n",
            "                                                                 \n",
            " activation (Activation)     (None, 98, 98, 200)       0         \n",
            "                                                                 \n",
            " max_pooling2d (MaxPooling2D  (None, 49, 49, 200)      0         \n",
            " )                                                               \n",
            "                                                                 \n",
            " conv2d_1 (Conv2D)           (None, 47, 47, 100)       180100    \n",
            "                                                                 \n",
            " activation_1 (Activation)   (None, 47, 47, 100)       0         \n",
            "                                                                 \n",
            " max_pooling2d_1 (MaxPooling  (None, 23, 23, 100)      0         \n",
            " 2D)                                                             \n",
            "                                                                 \n",
            " flatten (Flatten)           (None, 52900)             0         \n",
            "                                                                 \n",
            " dropout (Dropout)           (None, 52900)             0         \n",
            "                                                                 \n",
            " dense (Dense)               (None, 50)                2645050   \n",
            "                                                                 \n",
            " dense_1 (Dense)             (None, 10)                510       \n",
            "                                                                 \n",
            "=================================================================\n",
            "Total params: 2,831,260\n",
            "Trainable params: 2,831,260\n",
            "Non-trainable params: 0\n",
            "_________________________________________________________________\n"
          ]
        }
      ],
      "source": [
        "model.summary()"
      ]
    },
    {
      "cell_type": "code",
      "execution_count": 60,
      "id": "83473b6a-0411-4cb0-889d-f3a7c35741ed",
      "metadata": {
        "id": "83473b6a-0411-4cb0-889d-f3a7c35741ed"
      },
      "outputs": [],
      "source": [
        "from sklearn.model_selection import train_test_split\n",
        "train_data,test_data,train_target,test_target=train_test_split(data,new_target,test_size=0.2)"
      ]
    },
    {
      "cell_type": "code",
      "execution_count": 61,
      "id": "535326a9-5ebd-481b-b1eb-32dc0122f8d7",
      "metadata": {
        "id": "535326a9-5ebd-481b-b1eb-32dc0122f8d7",
        "colab": {
          "base_uri": "https://localhost:8080/"
        },
        "outputId": "671d4fb5-7954-4691-80f0-ab708f2bded7"
      },
      "outputs": [
        {
          "output_type": "execute_result",
          "data": {
            "text/plain": [
              "(5534, 100, 100, 3)"
            ]
          },
          "metadata": {},
          "execution_count": 61
        }
      ],
      "source": [
        "train_data.shape"
      ]
    },
    {
      "cell_type": "code",
      "execution_count": 62,
      "id": "3fc4b3d7-e9aa-467c-8c41-0d1c397998ce",
      "metadata": {
        "id": "3fc4b3d7-e9aa-467c-8c41-0d1c397998ce",
        "colab": {
          "base_uri": "https://localhost:8080/"
        },
        "outputId": "b905be64-9561-45e7-9f0b-925a1d5c56eb"
      },
      "outputs": [
        {
          "output_type": "execute_result",
          "data": {
            "text/plain": [
              "(5534, 10)"
            ]
          },
          "metadata": {},
          "execution_count": 62
        }
      ],
      "source": [
        "train_target.shape"
      ]
    },
    {
      "cell_type": "code",
      "execution_count": 63,
      "id": "5ab09c1a-8552-46bb-bb6c-7254a5230d3c",
      "metadata": {
        "id": "5ab09c1a-8552-46bb-bb6c-7254a5230d3c",
        "colab": {
          "base_uri": "https://localhost:8080/"
        },
        "outputId": "f2a26929-b06f-46ca-eabb-f142ab989b3a"
      },
      "outputs": [
        {
          "output_type": "stream",
          "name": "stdout",
          "text": [
            "Epoch 1/150\n",
            "122/122 [==============================] - 9s 51ms/step - loss: 0.2599 - accuracy: 0.9169 - val_loss: 0.0011 - val_accuracy: 1.0000\n",
            "Epoch 2/150\n",
            "122/122 [==============================] - 5s 44ms/step - loss: 3.5083e-04 - accuracy: 1.0000 - val_loss: 5.9236e-05 - val_accuracy: 1.0000\n",
            "Epoch 3/150\n",
            "122/122 [==============================] - 5s 44ms/step - loss: 3.9802e-05 - accuracy: 1.0000 - val_loss: 2.4677e-05 - val_accuracy: 1.0000\n",
            "Epoch 4/150\n",
            "122/122 [==============================] - 5s 44ms/step - loss: 2.9980e-05 - accuracy: 1.0000 - val_loss: 1.7027e-05 - val_accuracy: 1.0000\n",
            "Epoch 5/150\n",
            "122/122 [==============================] - 5s 44ms/step - loss: 1.8188e-05 - accuracy: 1.0000 - val_loss: 1.1665e-05 - val_accuracy: 1.0000\n",
            "Epoch 6/150\n",
            "122/122 [==============================] - 5s 44ms/step - loss: 1.2091e-05 - accuracy: 1.0000 - val_loss: 7.8964e-06 - val_accuracy: 1.0000\n",
            "Epoch 7/150\n",
            "122/122 [==============================] - 5s 44ms/step - loss: 8.3166e-06 - accuracy: 1.0000 - val_loss: 5.1418e-06 - val_accuracy: 1.0000\n",
            "Epoch 8/150\n",
            "122/122 [==============================] - 5s 44ms/step - loss: 5.9091e-06 - accuracy: 1.0000 - val_loss: 3.9294e-06 - val_accuracy: 1.0000\n",
            "Epoch 9/150\n",
            "122/122 [==============================] - 5s 44ms/step - loss: 8.3232e-06 - accuracy: 1.0000 - val_loss: 4.4018e-06 - val_accuracy: 1.0000\n",
            "Epoch 10/150\n",
            "122/122 [==============================] - 5s 45ms/step - loss: 3.7169e-06 - accuracy: 1.0000 - val_loss: 2.2557e-06 - val_accuracy: 1.0000\n",
            "Epoch 11/150\n",
            "122/122 [==============================] - 5s 44ms/step - loss: 2.6103e-06 - accuracy: 1.0000 - val_loss: 1.8773e-06 - val_accuracy: 1.0000\n",
            "Epoch 12/150\n",
            "122/122 [==============================] - 5s 44ms/step - loss: 2.1987e-06 - accuracy: 1.0000 - val_loss: 1.5629e-06 - val_accuracy: 1.0000\n",
            "Epoch 13/150\n",
            "122/122 [==============================] - 5s 45ms/step - loss: 1.9404e-06 - accuracy: 1.0000 - val_loss: 1.2395e-06 - val_accuracy: 1.0000\n",
            "Epoch 14/150\n",
            "122/122 [==============================] - 5s 45ms/step - loss: 1.5412e-06 - accuracy: 1.0000 - val_loss: 1.0699e-06 - val_accuracy: 1.0000\n",
            "Epoch 15/150\n",
            "122/122 [==============================] - 5s 45ms/step - loss: 1.7251e-06 - accuracy: 1.0000 - val_loss: 9.5128e-07 - val_accuracy: 1.0000\n",
            "Epoch 16/150\n",
            "122/122 [==============================] - 5s 45ms/step - loss: 1.0292e-06 - accuracy: 1.0000 - val_loss: 8.0639e-07 - val_accuracy: 1.0000\n",
            "Epoch 17/150\n",
            "122/122 [==============================] - 5s 45ms/step - loss: 1.1293e-06 - accuracy: 1.0000 - val_loss: 7.6834e-07 - val_accuracy: 1.0000\n",
            "Epoch 18/150\n",
            "122/122 [==============================] - 5s 45ms/step - loss: 1.0423e-06 - accuracy: 1.0000 - val_loss: 6.7820e-07 - val_accuracy: 1.0000\n",
            "Epoch 19/150\n",
            "122/122 [==============================] - 5s 45ms/step - loss: 2.6463e-06 - accuracy: 1.0000 - val_loss: 7.7330e-07 - val_accuracy: 1.0000\n",
            "Epoch 20/150\n",
            "122/122 [==============================] - 5s 44ms/step - loss: 0.1132 - accuracy: 0.9778 - val_loss: 3.1702e-04 - val_accuracy: 1.0000\n",
            "Epoch 21/150\n",
            "122/122 [==============================] - 5s 44ms/step - loss: 1.3302e-04 - accuracy: 1.0000 - val_loss: 9.5571e-06 - val_accuracy: 1.0000\n",
            "Epoch 22/150\n",
            "122/122 [==============================] - 5s 44ms/step - loss: 1.0835e-05 - accuracy: 1.0000 - val_loss: 4.5132e-06 - val_accuracy: 1.0000\n",
            "Epoch 23/150\n",
            "122/122 [==============================] - 5s 44ms/step - loss: 4.5303e-06 - accuracy: 1.0000 - val_loss: 3.4932e-06 - val_accuracy: 1.0000\n",
            "Epoch 24/150\n",
            "122/122 [==============================] - 5s 44ms/step - loss: 4.1704e-06 - accuracy: 1.0000 - val_loss: 2.8639e-06 - val_accuracy: 1.0000\n",
            "Epoch 25/150\n",
            "122/122 [==============================] - 5s 44ms/step - loss: 2.5904e-06 - accuracy: 1.0000 - val_loss: 2.3080e-06 - val_accuracy: 1.0000\n",
            "Epoch 26/150\n",
            "122/122 [==============================] - 5s 44ms/step - loss: 2.3689e-06 - accuracy: 1.0000 - val_loss: 2.0393e-06 - val_accuracy: 1.0000\n",
            "Epoch 27/150\n",
            "122/122 [==============================] - 5s 44ms/step - loss: 2.4485e-06 - accuracy: 1.0000 - val_loss: 1.7492e-06 - val_accuracy: 1.0000\n",
            "Epoch 28/150\n",
            "122/122 [==============================] - 5s 44ms/step - loss: 2.4831e-06 - accuracy: 1.0000 - val_loss: 1.4554e-06 - val_accuracy: 1.0000\n",
            "Epoch 29/150\n",
            "122/122 [==============================] - 5s 44ms/step - loss: 1.4845e-06 - accuracy: 1.0000 - val_loss: 1.3121e-06 - val_accuracy: 1.0000\n",
            "Epoch 30/150\n",
            "122/122 [==============================] - 5s 44ms/step - loss: 1.1434e-06 - accuracy: 1.0000 - val_loss: 1.1563e-06 - val_accuracy: 1.0000\n",
            "Epoch 31/150\n",
            "122/122 [==============================] - 5s 44ms/step - loss: 1.0109e-06 - accuracy: 1.0000 - val_loss: 1.0580e-06 - val_accuracy: 1.0000\n",
            "Epoch 32/150\n",
            "122/122 [==============================] - 5s 44ms/step - loss: 9.6776e-07 - accuracy: 1.0000 - val_loss: 9.6896e-07 - val_accuracy: 1.0000\n",
            "Epoch 33/150\n",
            "122/122 [==============================] - 5s 44ms/step - loss: 1.4227e-06 - accuracy: 1.0000 - val_loss: 8.5116e-07 - val_accuracy: 1.0000\n",
            "Epoch 34/150\n",
            "122/122 [==============================] - 5s 44ms/step - loss: 5.6615e-07 - accuracy: 1.0000 - val_loss: 7.6923e-07 - val_accuracy: 1.0000\n",
            "Epoch 35/150\n",
            "122/122 [==============================] - 5s 44ms/step - loss: 1.2498e-06 - accuracy: 1.0000 - val_loss: 6.3866e-07 - val_accuracy: 1.0000\n",
            "Epoch 36/150\n",
            "122/122 [==============================] - 6s 48ms/step - loss: 7.2260e-07 - accuracy: 1.0000 - val_loss: 5.6482e-07 - val_accuracy: 1.0000\n",
            "Epoch 37/150\n",
            "122/122 [==============================] - 5s 44ms/step - loss: 6.2363e-07 - accuracy: 1.0000 - val_loss: 5.0836e-07 - val_accuracy: 1.0000\n",
            "Epoch 38/150\n",
            "122/122 [==============================] - 5s 44ms/step - loss: 6.6047e-07 - accuracy: 1.0000 - val_loss: 4.5705e-07 - val_accuracy: 1.0000\n",
            "Epoch 39/150\n",
            "122/122 [==============================] - 5s 44ms/step - loss: 3.9685e-07 - accuracy: 1.0000 - val_loss: 4.1436e-07 - val_accuracy: 1.0000\n",
            "Epoch 40/150\n",
            "122/122 [==============================] - 5s 44ms/step - loss: 3.1364e-07 - accuracy: 1.0000 - val_loss: 3.8573e-07 - val_accuracy: 1.0000\n",
            "Epoch 41/150\n",
            "122/122 [==============================] - 5s 44ms/step - loss: 4.1581e-07 - accuracy: 1.0000 - val_loss: 3.6786e-07 - val_accuracy: 1.0000\n",
            "Epoch 42/150\n",
            "122/122 [==============================] - 5s 44ms/step - loss: 6.4988e-07 - accuracy: 1.0000 - val_loss: 3.8057e-07 - val_accuracy: 1.0000\n",
            "Epoch 43/150\n",
            "122/122 [==============================] - 5s 44ms/step - loss: 3.4666e-07 - accuracy: 1.0000 - val_loss: 3.3134e-07 - val_accuracy: 1.0000\n",
            "Epoch 44/150\n",
            "122/122 [==============================] - 5s 44ms/step - loss: 2.7704e-07 - accuracy: 1.0000 - val_loss: 3.0184e-07 - val_accuracy: 1.0000\n",
            "Epoch 45/150\n",
            "122/122 [==============================] - 5s 44ms/step - loss: 2.3435e-07 - accuracy: 1.0000 - val_loss: 2.6725e-07 - val_accuracy: 1.0000\n",
            "Epoch 46/150\n",
            "122/122 [==============================] - 5s 44ms/step - loss: 2.3693e-07 - accuracy: 1.0000 - val_loss: 2.3869e-07 - val_accuracy: 1.0000\n",
            "Epoch 47/150\n",
            "122/122 [==============================] - 5s 44ms/step - loss: 2.5042e-07 - accuracy: 1.0000 - val_loss: 2.1932e-07 - val_accuracy: 1.0000\n",
            "Epoch 48/150\n",
            "122/122 [==============================] - 6s 48ms/step - loss: 1.7378e-07 - accuracy: 1.0000 - val_loss: 2.0102e-07 - val_accuracy: 1.0000\n",
            "Epoch 49/150\n",
            "122/122 [==============================] - 5s 44ms/step - loss: 2.0856e-07 - accuracy: 1.0000 - val_loss: 1.8824e-07 - val_accuracy: 1.0000\n",
            "Epoch 50/150\n",
            "122/122 [==============================] - 6s 48ms/step - loss: 1.5159e-07 - accuracy: 1.0000 - val_loss: 1.7490e-07 - val_accuracy: 1.0000\n",
            "Epoch 51/150\n",
            "122/122 [==============================] - 5s 44ms/step - loss: 1.4162e-07 - accuracy: 1.0000 - val_loss: 1.6399e-07 - val_accuracy: 1.0000\n",
            "Epoch 52/150\n",
            "122/122 [==============================] - 5s 44ms/step - loss: 1.7156e-07 - accuracy: 1.0000 - val_loss: 1.5358e-07 - val_accuracy: 1.0000\n",
            "Epoch 53/150\n",
            "122/122 [==============================] - 5s 44ms/step - loss: 1.1481e-07 - accuracy: 1.0000 - val_loss: 1.3995e-07 - val_accuracy: 1.0000\n",
            "Epoch 54/150\n",
            "122/122 [==============================] - 5s 44ms/step - loss: 1.1019e-07 - accuracy: 1.0000 - val_loss: 1.2968e-07 - val_accuracy: 1.0000\n",
            "Epoch 55/150\n",
            "122/122 [==============================] - 5s 44ms/step - loss: 1.1407e-07 - accuracy: 1.0000 - val_loss: 1.1956e-07 - val_accuracy: 1.0000\n",
            "Epoch 56/150\n",
            "122/122 [==============================] - 5s 44ms/step - loss: 9.1600e-08 - accuracy: 1.0000 - val_loss: 1.1088e-07 - val_accuracy: 1.0000\n",
            "Epoch 57/150\n",
            "122/122 [==============================] - 5s 44ms/step - loss: 1.1659e-07 - accuracy: 1.0000 - val_loss: 1.0040e-07 - val_accuracy: 1.0000\n",
            "Epoch 58/150\n",
            "122/122 [==============================] - 5s 44ms/step - loss: 6.5622e-08 - accuracy: 1.0000 - val_loss: 9.6959e-08 - val_accuracy: 1.0000\n",
            "Epoch 59/150\n",
            "122/122 [==============================] - 5s 44ms/step - loss: 7.1747e-08 - accuracy: 1.0000 - val_loss: 9.2581e-08 - val_accuracy: 1.0000\n",
            "Epoch 60/150\n",
            "122/122 [==============================] - 5s 44ms/step - loss: 7.6641e-08 - accuracy: 1.0000 - val_loss: 8.7701e-08 - val_accuracy: 1.0000\n",
            "Epoch 61/150\n",
            "122/122 [==============================] - 5s 44ms/step - loss: 8.4766e-08 - accuracy: 1.0000 - val_loss: 8.4328e-08 - val_accuracy: 1.0000\n",
            "Epoch 62/150\n",
            "122/122 [==============================] - 5s 44ms/step - loss: 7.7287e-08 - accuracy: 1.0000 - val_loss: 7.7079e-08 - val_accuracy: 1.0000\n",
            "Epoch 63/150\n",
            "122/122 [==============================] - 5s 44ms/step - loss: 5.1617e-08 - accuracy: 1.0000 - val_loss: 7.3275e-08 - val_accuracy: 1.0000\n",
            "Epoch 64/150\n",
            "122/122 [==============================] - 5s 44ms/step - loss: 6.4575e-08 - accuracy: 1.0000 - val_loss: 6.8611e-08 - val_accuracy: 1.0000\n",
            "Epoch 65/150\n",
            "122/122 [==============================] - 5s 44ms/step - loss: 8.9505e-08 - accuracy: 1.0000 - val_loss: 6.1506e-08 - val_accuracy: 1.0000\n",
            "Epoch 66/150\n",
            "122/122 [==============================] - 6s 48ms/step - loss: 4.1429e-08 - accuracy: 1.0000 - val_loss: 5.7774e-08 - val_accuracy: 1.0000\n",
            "Epoch 67/150\n",
            "122/122 [==============================] - 5s 44ms/step - loss: 4.0444e-08 - accuracy: 1.0000 - val_loss: 5.4257e-08 - val_accuracy: 1.0000\n",
            "Epoch 68/150\n",
            "122/122 [==============================] - 5s 44ms/step - loss: 4.3122e-08 - accuracy: 1.0000 - val_loss: 5.1243e-08 - val_accuracy: 1.0000\n",
            "Epoch 69/150\n",
            "122/122 [==============================] - 5s 44ms/step - loss: 4.2999e-08 - accuracy: 1.0000 - val_loss: 4.7798e-08 - val_accuracy: 1.0000\n",
            "Epoch 70/150\n",
            "122/122 [==============================] - 5s 44ms/step - loss: 2.3977e-08 - accuracy: 1.0000 - val_loss: 4.6004e-08 - val_accuracy: 1.0000\n",
            "Epoch 71/150\n",
            "122/122 [==============================] - 5s 45ms/step - loss: 3.8013e-08 - accuracy: 1.0000 - val_loss: 4.2774e-08 - val_accuracy: 1.0000\n",
            "Epoch 72/150\n",
            "122/122 [==============================] - 5s 45ms/step - loss: 1.0892e-07 - accuracy: 1.0000 - val_loss: 4.5789e-08 - val_accuracy: 1.0000\n",
            "Epoch 73/150\n",
            "122/122 [==============================] - 6s 48ms/step - loss: 4.6169e-08 - accuracy: 1.0000 - val_loss: 3.9329e-08 - val_accuracy: 1.0000\n",
            "Epoch 74/150\n",
            "122/122 [==============================] - 5s 45ms/step - loss: 3.2688e-08 - accuracy: 1.0000 - val_loss: 3.5526e-08 - val_accuracy: 1.0000\n",
            "Epoch 75/150\n",
            "122/122 [==============================] - 5s 45ms/step - loss: 3.4350e-08 - accuracy: 1.0000 - val_loss: 3.0861e-08 - val_accuracy: 1.0000\n",
            "Epoch 76/150\n",
            "122/122 [==============================] - 5s 45ms/step - loss: 2.6163e-08 - accuracy: 1.0000 - val_loss: 2.9138e-08 - val_accuracy: 1.0000\n",
            "Epoch 77/150\n",
            "122/122 [==============================] - 5s 45ms/step - loss: 3.9090e-08 - accuracy: 1.0000 - val_loss: 2.8995e-08 - val_accuracy: 1.0000\n",
            "Epoch 78/150\n",
            "122/122 [==============================] - 5s 45ms/step - loss: 3.4965e-08 - accuracy: 1.0000 - val_loss: 2.9569e-08 - val_accuracy: 1.0000\n",
            "Epoch 79/150\n",
            "122/122 [==============================] - 5s 45ms/step - loss: 1.4189e-08 - accuracy: 1.0000 - val_loss: 2.8134e-08 - val_accuracy: 1.0000\n",
            "Epoch 80/150\n",
            "122/122 [==============================] - 5s 45ms/step - loss: 2.1238e-08 - accuracy: 1.0000 - val_loss: 2.5765e-08 - val_accuracy: 1.0000\n",
            "Epoch 81/150\n",
            "122/122 [==============================] - 5s 45ms/step - loss: 3.0410e-08 - accuracy: 1.0000 - val_loss: 2.2392e-08 - val_accuracy: 1.0000\n",
            "Epoch 82/150\n",
            "122/122 [==============================] - 6s 48ms/step - loss: 1.9853e-08 - accuracy: 1.0000 - val_loss: 2.1172e-08 - val_accuracy: 1.0000\n",
            "Epoch 83/150\n",
            "122/122 [==============================] - 5s 45ms/step - loss: 1.7637e-08 - accuracy: 1.0000 - val_loss: 1.9091e-08 - val_accuracy: 1.0000\n",
            "Epoch 84/150\n",
            "122/122 [==============================] - 5s 45ms/step - loss: 1.4374e-08 - accuracy: 1.0000 - val_loss: 1.8516e-08 - val_accuracy: 1.0000\n",
            "Epoch 85/150\n",
            "122/122 [==============================] - 5s 45ms/step - loss: 9.9418e-09 - accuracy: 1.0000 - val_loss: 1.7727e-08 - val_accuracy: 1.0000\n",
            "Epoch 86/150\n",
            "122/122 [==============================] - 5s 45ms/step - loss: 4.9492e-08 - accuracy: 1.0000 - val_loss: 1.2100e-07 - val_accuracy: 1.0000\n",
            "Epoch 87/150\n",
            "122/122 [==============================] - 5s 45ms/step - loss: 2.7548e-08 - accuracy: 1.0000 - val_loss: 3.6172e-08 - val_accuracy: 1.0000\n",
            "Epoch 88/150\n",
            "122/122 [==============================] - 5s 45ms/step - loss: 1.9914e-08 - accuracy: 1.0000 - val_loss: 2.8277e-08 - val_accuracy: 1.0000\n",
            "Epoch 89/150\n",
            "122/122 [==============================] - 5s 45ms/step - loss: 1.1235e-08 - accuracy: 1.0000 - val_loss: 2.3325e-08 - val_accuracy: 1.0000\n",
            "Epoch 90/150\n",
            "122/122 [==============================] - 6s 48ms/step - loss: 2.1330e-08 - accuracy: 1.0000 - val_loss: 2.1603e-08 - val_accuracy: 1.0000\n",
            "Epoch 91/150\n",
            "122/122 [==============================] - 5s 45ms/step - loss: 1.1850e-08 - accuracy: 1.0000 - val_loss: 1.8229e-08 - val_accuracy: 1.0000\n",
            "Epoch 92/150\n",
            "122/122 [==============================] - 5s 45ms/step - loss: 1.7175e-08 - accuracy: 1.0000 - val_loss: 1.7081e-08 - val_accuracy: 1.0000\n",
            "Epoch 93/150\n",
            "122/122 [==============================] - 5s 45ms/step - loss: 6.3098e-09 - accuracy: 1.0000 - val_loss: 1.4067e-08 - val_accuracy: 1.0000\n",
            "Epoch 94/150\n",
            "122/122 [==============================] - 5s 45ms/step - loss: 1.0588e-08 - accuracy: 1.0000 - val_loss: 1.2057e-08 - val_accuracy: 1.0000\n",
            "Epoch 95/150\n",
            "122/122 [==============================] - 5s 45ms/step - loss: 6.6484e-09 - accuracy: 1.0000 - val_loss: 1.0837e-08 - val_accuracy: 1.0000\n",
            "Epoch 96/150\n",
            "122/122 [==============================] - 5s 45ms/step - loss: 6.5560e-09 - accuracy: 1.0000 - val_loss: 1.0119e-08 - val_accuracy: 1.0000\n",
            "Epoch 97/150\n",
            "122/122 [==============================] - 6s 48ms/step - loss: 5.7250e-09 - accuracy: 1.0000 - val_loss: 9.6889e-09 - val_accuracy: 1.0000\n",
            "Epoch 98/150\n",
            "122/122 [==============================] - 5s 45ms/step - loss: 4.3399e-09 - accuracy: 1.0000 - val_loss: 9.1865e-09 - val_accuracy: 1.0000\n",
            "Epoch 99/150\n",
            "122/122 [==============================] - 5s 45ms/step - loss: 1.1727e-08 - accuracy: 1.0000 - val_loss: 8.3253e-09 - val_accuracy: 1.0000\n",
            "Epoch 100/150\n",
            "122/122 [==============================] - 5s 45ms/step - loss: 6.7099e-09 - accuracy: 1.0000 - val_loss: 7.8946e-09 - val_accuracy: 1.0000\n",
            "Epoch 101/150\n",
            "122/122 [==============================] - 5s 45ms/step - loss: 5.0786e-09 - accuracy: 1.0000 - val_loss: 7.4640e-09 - val_accuracy: 1.0000\n",
            "Epoch 102/150\n",
            "122/122 [==============================] - 5s 45ms/step - loss: 2.9548e-09 - accuracy: 1.0000 - val_loss: 7.3205e-09 - val_accuracy: 1.0000\n",
            "Epoch 103/150\n",
            "122/122 [==============================] - 5s 45ms/step - loss: 5.5095e-09 - accuracy: 1.0000 - val_loss: 6.6746e-09 - val_accuracy: 1.0000\n",
            "Epoch 104/150\n",
            "122/122 [==============================] - 5s 45ms/step - loss: 3.3550e-09 - accuracy: 1.0000 - val_loss: 6.5310e-09 - val_accuracy: 1.0000\n",
            "Epoch 105/150\n",
            "122/122 [==============================] - 5s 45ms/step - loss: 3.1395e-09 - accuracy: 1.0000 - val_loss: 6.4593e-09 - val_accuracy: 1.0000\n",
            "Epoch 106/150\n",
            "122/122 [==============================] - 5s 45ms/step - loss: 2.9548e-09 - accuracy: 1.0000 - val_loss: 6.1722e-09 - val_accuracy: 1.0000\n",
            "Epoch 107/150\n",
            "122/122 [==============================] - 5s 45ms/step - loss: 4.9247e-09 - accuracy: 1.0000 - val_loss: 5.8133e-09 - val_accuracy: 1.0000\n",
            "Epoch 108/150\n",
            "122/122 [==============================] - 6s 48ms/step - loss: 3.4473e-09 - accuracy: 1.0000 - val_loss: 5.5263e-09 - val_accuracy: 1.0000\n",
            "Epoch 109/150\n",
            "122/122 [==============================] - 5s 45ms/step - loss: 3.7859e-09 - accuracy: 1.0000 - val_loss: 5.0956e-09 - val_accuracy: 1.0000\n",
            "Epoch 110/150\n",
            "122/122 [==============================] - 5s 45ms/step - loss: 3.6935e-09 - accuracy: 1.0000 - val_loss: 4.7368e-09 - val_accuracy: 1.0000\n",
            "Epoch 111/150\n",
            "122/122 [==============================] - 5s 45ms/step - loss: 1.9699e-09 - accuracy: 1.0000 - val_loss: 4.5215e-09 - val_accuracy: 1.0000\n",
            "Epoch 112/150\n",
            "122/122 [==============================] - 5s 45ms/step - loss: 3.1703e-09 - accuracy: 1.0000 - val_loss: 4.0909e-09 - val_accuracy: 1.0000\n",
            "Epoch 113/150\n",
            "122/122 [==============================] - 5s 45ms/step - loss: 2.8933e-09 - accuracy: 1.0000 - val_loss: 4.0191e-09 - val_accuracy: 1.0000\n",
            "Epoch 114/150\n",
            "122/122 [==============================] - 5s 45ms/step - loss: 6.7715e-09 - accuracy: 1.0000 - val_loss: 4.7368e-09 - val_accuracy: 1.0000\n",
            "Epoch 115/150\n",
            "122/122 [==============================] - 5s 45ms/step - loss: 5.5711e-09 - accuracy: 1.0000 - val_loss: 4.1626e-09 - val_accuracy: 1.0000\n",
            "Epoch 116/150\n",
            "122/122 [==============================] - 5s 45ms/step - loss: 2.8625e-09 - accuracy: 1.0000 - val_loss: 3.5885e-09 - val_accuracy: 1.0000\n",
            "Epoch 117/150\n",
            "122/122 [==============================] - 5s 45ms/step - loss: 2.4624e-09 - accuracy: 1.0000 - val_loss: 3.3732e-09 - val_accuracy: 1.0000\n",
            "Epoch 118/150\n",
            "122/122 [==============================] - 5s 45ms/step - loss: 2.8009e-09 - accuracy: 1.0000 - val_loss: 3.3732e-09 - val_accuracy: 1.0000\n",
            "Epoch 119/150\n",
            "122/122 [==============================] - 5s 45ms/step - loss: 2.4008e-09 - accuracy: 1.0000 - val_loss: 3.3732e-09 - val_accuracy: 1.0000\n",
            "Epoch 120/150\n",
            "122/122 [==============================] - 5s 45ms/step - loss: 1.4774e-09 - accuracy: 1.0000 - val_loss: 3.3732e-09 - val_accuracy: 1.0000\n",
            "Epoch 121/150\n",
            "122/122 [==============================] - 5s 45ms/step - loss: 1.6005e-09 - accuracy: 1.0000 - val_loss: 3.0861e-09 - val_accuracy: 1.0000\n",
            "Epoch 122/150\n",
            "122/122 [==============================] - 5s 45ms/step - loss: 4.7708e-09 - accuracy: 1.0000 - val_loss: 3.0143e-09 - val_accuracy: 1.0000\n",
            "Epoch 123/150\n",
            "122/122 [==============================] - 5s 45ms/step - loss: 1.1081e-09 - accuracy: 1.0000 - val_loss: 3.0861e-09 - val_accuracy: 1.0000\n",
            "Epoch 124/150\n",
            "122/122 [==============================] - 5s 44ms/step - loss: 1.1081e-09 - accuracy: 1.0000 - val_loss: 3.1579e-09 - val_accuracy: 1.0000\n",
            "Epoch 125/150\n",
            "122/122 [==============================] - 5s 44ms/step - loss: 1.9699e-09 - accuracy: 1.0000 - val_loss: 2.8708e-09 - val_accuracy: 1.0000\n",
            "Epoch 126/150\n",
            "122/122 [==============================] - 5s 45ms/step - loss: 2.4931e-09 - accuracy: 1.0000 - val_loss: 2.7990e-09 - val_accuracy: 1.0000\n",
            "Epoch 127/150\n",
            "122/122 [==============================] - 5s 44ms/step - loss: 1.6929e-09 - accuracy: 1.0000 - val_loss: 2.8708e-09 - val_accuracy: 1.0000\n",
            "Epoch 128/150\n",
            "122/122 [==============================] - 5s 45ms/step - loss: 1.6929e-09 - accuracy: 1.0000 - val_loss: 2.5837e-09 - val_accuracy: 1.0000\n",
            "Epoch 129/150\n",
            "122/122 [==============================] - 5s 44ms/step - loss: 1.6313e-09 - accuracy: 1.0000 - val_loss: 2.6555e-09 - val_accuracy: 1.0000\n",
            "Epoch 130/150\n",
            "122/122 [==============================] - 5s 44ms/step - loss: 1.0157e-09 - accuracy: 1.0000 - val_loss: 2.5837e-09 - val_accuracy: 1.0000\n",
            "Epoch 131/150\n",
            "122/122 [==============================] - 5s 44ms/step - loss: 2.5547e-09 - accuracy: 1.0000 - val_loss: 2.0095e-09 - val_accuracy: 1.0000\n",
            "Epoch 132/150\n",
            "122/122 [==============================] - 5s 45ms/step - loss: 1.2927e-09 - accuracy: 1.0000 - val_loss: 1.8660e-09 - val_accuracy: 1.0000\n",
            "Epoch 133/150\n",
            "122/122 [==============================] - 5s 45ms/step - loss: 7.3871e-10 - accuracy: 1.0000 - val_loss: 2.1531e-09 - val_accuracy: 1.0000\n",
            "Epoch 134/150\n",
            "122/122 [==============================] - 5s 44ms/step - loss: 1.1696e-09 - accuracy: 1.0000 - val_loss: 2.0095e-09 - val_accuracy: 1.0000\n",
            "Epoch 135/150\n",
            "122/122 [==============================] - 5s 45ms/step - loss: 1.0157e-09 - accuracy: 1.0000 - val_loss: 1.8660e-09 - val_accuracy: 1.0000\n",
            "Epoch 136/150\n",
            "122/122 [==============================] - 5s 45ms/step - loss: 1.4774e-09 - accuracy: 1.0000 - val_loss: 1.9378e-09 - val_accuracy: 1.0000\n",
            "Epoch 137/150\n",
            "122/122 [==============================] - 5s 44ms/step - loss: 8.3105e-10 - accuracy: 1.0000 - val_loss: 1.6507e-09 - val_accuracy: 1.0000\n",
            "Epoch 138/150\n",
            "122/122 [==============================] - 5s 45ms/step - loss: 6.7715e-10 - accuracy: 1.0000 - val_loss: 1.7225e-09 - val_accuracy: 1.0000\n",
            "Epoch 139/150\n",
            "122/122 [==============================] - 5s 45ms/step - loss: 8.9261e-10 - accuracy: 1.0000 - val_loss: 1.5789e-09 - val_accuracy: 1.0000\n",
            "Epoch 140/150\n",
            "122/122 [==============================] - 5s 44ms/step - loss: 1.1696e-09 - accuracy: 1.0000 - val_loss: 1.4354e-09 - val_accuracy: 1.0000\n",
            "Epoch 141/150\n",
            "122/122 [==============================] - 5s 44ms/step - loss: 1.1388e-09 - accuracy: 1.0000 - val_loss: 1.5072e-09 - val_accuracy: 1.0000\n",
            "Epoch 142/150\n",
            "122/122 [==============================] - 5s 44ms/step - loss: 8.0027e-10 - accuracy: 1.0000 - val_loss: 1.2919e-09 - val_accuracy: 1.0000\n",
            "Epoch 143/150\n",
            "122/122 [==============================] - 5s 45ms/step - loss: 6.1559e-10 - accuracy: 1.0000 - val_loss: 1.3636e-09 - val_accuracy: 1.0000\n",
            "Epoch 144/150\n",
            "122/122 [==============================] - 5s 45ms/step - loss: 8.3105e-10 - accuracy: 1.0000 - val_loss: 1.1483e-09 - val_accuracy: 1.0000\n",
            "Epoch 145/150\n",
            "122/122 [==============================] - 5s 44ms/step - loss: 6.7715e-10 - accuracy: 1.0000 - val_loss: 1.2919e-09 - val_accuracy: 1.0000\n",
            "Epoch 146/150\n",
            "122/122 [==============================] - 5s 45ms/step - loss: 4.9247e-10 - accuracy: 1.0000 - val_loss: 1.1483e-09 - val_accuracy: 1.0000\n",
            "Epoch 147/150\n",
            "122/122 [==============================] - 5s 44ms/step - loss: 5.2325e-10 - accuracy: 1.0000 - val_loss: 1.0048e-09 - val_accuracy: 1.0000\n",
            "Epoch 148/150\n",
            "122/122 [==============================] - 5s 44ms/step - loss: 2.1546e-10 - accuracy: 1.0000 - val_loss: 1.0048e-09 - val_accuracy: 1.0000\n",
            "Epoch 149/150\n",
            "122/122 [==============================] - 5s 45ms/step - loss: 5.2325e-10 - accuracy: 1.0000 - val_loss: 1.0048e-09 - val_accuracy: 1.0000\n",
            "Epoch 150/150\n",
            "122/122 [==============================] - 6s 49ms/step - loss: 1.8468e-10 - accuracy: 1.0000 - val_loss: 9.3300e-10 - val_accuracy: 1.0000\n"
          ]
        }
      ],
      "source": [
        "history=model.fit(train_data,train_target,epochs=150,validation_split=0.3)"
      ]
    },
    {
      "cell_type": "code",
      "execution_count": 64,
      "id": "a9078203-3597-4ebe-af39-c4339e787e65",
      "metadata": {
        "id": "a9078203-3597-4ebe-af39-c4339e787e65",
        "colab": {
          "base_uri": "https://localhost:8080/",
          "height": 299
        },
        "outputId": "cfe4e818-8312-4225-c708-7d34173a73e6"
      },
      "outputs": [
        {
          "output_type": "display_data",
          "data": {
            "text/plain": [
              "<Figure size 432x288 with 1 Axes>"
            ],
            "image/png": "[encoded data removed]"
          },
          "metadata": {}
        }
      ],
      "source": [
        "N = 150\n",
        "plt.style.use(\"ggplot\")\n",
        "plt.figure()\n",
        "plt.plot(np.arange(0, N), history.history[\"loss\"], label=\"train_loss\")\n",
        "plt.plot(np.arange(0, N), history.history[\"val_loss\"], label=\"val_loss\")\n",
        "plt.plot(np.arange(0, N), history.history[\"accuracy\"], label=\"train_acc\")\n",
        "plt.plot(np.arange(0, N), history.history[\"val_accuracy\"], label=\"val_acc\")\n",
        "plt.title(\"Training Loss and Accuracy\")\n",
        "plt.xlabel(\"Epoch #\")\n",
        "plt.ylabel(\"Loss/Accuracy\")\n",
        "plt.legend(loc=\"center right\");"
      ]
    },
    {
      "cell_type": "code",
      "execution_count": 64,
      "id": "a57060d1-2aef-4fb7-9152-769b3daa8fea",
      "metadata": {
        "id": "a57060d1-2aef-4fb7-9152-769b3daa8fea"
      },
      "outputs": [],
      "source": [
        ""
      ]
    }
  ],
  "metadata": {
    "kernelspec": {
      "display_name": "Python 3 (ipykernel)",
      "language": "python",
      "name": "python3"
    },
    "language_info": {
      "codemirror_mode": {
        "name": "ipython",
        "version": 3
      },
      "file_extension": ".py",
      "mimetype": "text/x-python",
      "name": "python",
      "nbconvert_exporter": "python",
      "pygments_lexer": "ipython3",
      "version": "3.9.7"
    },
    "colab": {
      "name": "HRA.ipynb",
      "provenance": []
    },
    "accelerator": "GPU"
  },
  "nbformat": 4,
  "nbformat_minor": 5
}