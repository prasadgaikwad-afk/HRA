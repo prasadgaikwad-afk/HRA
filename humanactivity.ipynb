{
 "cells": [
  {
   "cell_type": "code",
   "execution_count": 1,
   "id": "f5fd5d86-d1a7-434b-87ea-a901b72b1baf",
   "metadata": {},
   "outputs": [],
   "source": [
    "import os\n",
    "import cv2\n",
    "import glob\n",
    "import numpy as np\n",
    "import matplotlib.pyplot as plt"
   ]
  },
  {
   "cell_type": "markdown",
   "id": "63049f01-fc19-4eaa-b225-76ae45c4b841",
   "metadata": {},
   "source": [
    "## *Data preprocessing*\n",
    "### We cant feed videos to CNN model directly. Since a video is just a series of frames the approach will be:\n",
    "#### 1) Loop over all frames in the video file\n",
    "#### 2) For each frame, pass the frame through the CNN\n",
    "#### 3) Obtain the predictions from the CNN\n",
    "#### 4) Maintain a list of the last K predictions\n",
    "#### 5) Compute the average of the last K predictions and choose the label with the largest corresponding probability\n",
    "#### 6) Label the frame and write the output frame to disk"
   ]
  },
  {
   "cell_type": "markdown",
   "id": "69d0b163-2493-42d9-8d5d-cde0a5b3f839",
   "metadata": {},
   "source": [
    "## *Converting videos into frames and writing them in a seprate folder*"
   ]
  },
  {
   "cell_type": "markdown",
   "id": "4b30defa-09bb-4da1-8993-7513f75821b6",
   "metadata": {},
   "source": [
    "## Bowling"
   ]
  },
  {
   "cell_type": "code",
   "execution_count": 9,
   "id": "3c014af8-3a90-47aa-a0da-9b6abb316d10",
   "metadata": {},
   "outputs": [],
   "source": [
    "count = 0\n",
    "for files in os.listdir('C:/Users/ppras/ML/HRA/Bowling'):\n",
    "    cap = cv2.VideoCapture(os.path.join('C:/Users/ppras/ML/HRA/Bowling', files))\n",
    "    success, image = cap.read()\n",
    "    if not os.path.exists('C:/Users/ppras/ML/HRA/Bowling_frames/'):\n",
    "        os.mkdir('C:/Users/ppras/ML/HRA/Bowling_frames/')\n",
    "    while success:\n",
    "        success, image = cap.read()\n",
    "        if not success:\n",
    "            break\n",
    "        cv2.imwrite('C:/Users/ppras/ML/HRA/Bowling_frames/bowling_' + str(count) + '.jpg' , image)\n",
    "        count += 1"
   ]
  },
  {
   "cell_type": "markdown",
   "id": "b40efc9f-eb79-418b-9aff-038bdefd4a41",
   "metadata": {},
   "source": [
    "## Brushing_Teeth"
   ]
  },
  {
   "cell_type": "code",
   "execution_count": 10,
   "id": "6d7a8f56-b72e-4add-9c77-e8eb1ae9250a",
   "metadata": {},
   "outputs": [],
   "source": [
    "count1 = 0\n",
    "for files in os.listdir('C:/Users/ppras/ML/HRA/Brushing_Teeth'):\n",
    "    cap1 = cv2.VideoCapture(os.path.join('C:/Users/ppras/ML/HRA/Brushing_Teeth', files))\n",
    "    success1, image1 = cap1.read()\n",
    "    if not os.path.exists('C:/Users/ppras/ML/HRA/Brushing_Teeth_frames/'):\n",
    "        os.mkdir('C:/Users/ppras/ML/HRA/Brushing_Teeth_frames/')\n",
    "    while success1:\n",
    "        success1, image1 = cap1.read()\n",
    "        if not success1:\n",
    "            break\n",
    "        cv2.imwrite('C:/Users/ppras/ML/HRA/Brushing_Teeth_frames/brushing_Teeth_' + str(count1) + '.jpg' , image1)\n",
    "        count1 += 1"
   ]
  },
  {
   "cell_type": "markdown",
   "id": "f297a1a7-e958-48a5-9a14-63a8cc41f389",
   "metadata": {},
   "source": [
    "## Handstand"
   ]
  },
  {
   "cell_type": "code",
   "execution_count": 11,
   "id": "7e28d089-7d92-49cf-8b5d-1d482be72ac2",
   "metadata": {},
   "outputs": [],
   "source": [
    "count2 = 0\n",
    "for files in os.listdir('C:/Users/ppras/ML/HRA/Handstand'):\n",
    "    cap2 = cv2.VideoCapture(os.path.join('C:/Users/ppras/ML/HRA/Handstand', files))\n",
    "    success2, image2 = cap2.read()\n",
    "    if not os.path.exists('C:/Users/ppras/ML/HRA/Handstand_frames/'):\n",
    "        os.mkdir('C:/Users/ppras/ML/HRA/Handstand_frames/')\n",
    "    while success2:\n",
    "        success2, image2 = cap2.read()\n",
    "        if not success2:\n",
    "            break\n",
    "        cv2.imwrite('C:/Users/ppras/ML/HRA/Handstand_frames/handstand_' + str(count2) + '.jpg' , image2)\n",
    "        count2 += 1"
   ]
  },
  {
   "cell_type": "markdown",
   "id": "a8c32313-944f-4c5d-9e0a-55ea361b9ee1",
   "metadata": {},
   "source": [
    "## Boxing"
   ]
  },
  {
   "cell_type": "code",
   "execution_count": 12,
   "id": "3aa26533-4b00-41ee-b0b2-1db5e6a21daa",
   "metadata": {},
   "outputs": [],
   "source": [
    "count3 = 0\n",
    "for files in os.listdir('C:/Users/ppras/ML/HRA/Boxing'):\n",
    "    cap3 = cv2.VideoCapture(os.path.join('C:/Users/ppras/ML/HRA/Boxing', files))\n",
    "    success3, image3 = cap3.read()\n",
    "    if not os.path.exists('C:/Users/ppras/ML/HRA/Boxing_frames/'):\n",
    "        os.mkdir('C:/Users/ppras/ML/HRA/Boxing_frames/')\n",
    "    while success3:\n",
    "        success3, image3 = cap3.read()\n",
    "        if not success3:\n",
    "            break\n",
    "        cv2.imwrite('C:/Users/ppras/ML/HRA/Boxing_frames/boxing_' + str(count3) + '.jpg' , image3)\n",
    "        count3 += 1"
   ]
  },
  {
   "cell_type": "markdown",
   "id": "99d69e45-3d50-4931-99e7-bb94bfbbbbbe",
   "metadata": {},
   "source": [
    "## Fencing"
   ]
  },
  {
   "cell_type": "code",
   "execution_count": 13,
   "id": "945f0f15-1715-4e53-80f4-64c02a495eb2",
   "metadata": {},
   "outputs": [],
   "source": [
    "count4 = 0\n",
    "for files in os.listdir('C:/Users/ppras/ML/HRA/Fencing'):\n",
    "    cap4 = cv2.VideoCapture(os.path.join('C:/Users/ppras/ML/HRA/Fencing', files))\n",
    "    success4, image4 = cap4.read()\n",
    "    if not os.path.exists('C:/Users/ppras/ML/HRA/Fencing_frames/'):\n",
    "        os.mkdir('C:/Users/ppras/ML/HRA/Fencing_frames/')\n",
    "    while success4:\n",
    "        success4, image4 = cap4.read()\n",
    "        if not success4:\n",
    "            break\n",
    "        cv2.imwrite('C:/Users/ppras/ML/HRA/Fencing_frames/fencing_' + str(count4) + '.jpg' , image4)\n",
    "        count4 += 1"
   ]
  },
  {
   "cell_type": "markdown",
   "id": "044f1399-e483-43fe-a2fd-fb855b6ccda8",
   "metadata": {},
   "source": [
    "### For basic model requirement we have taken random sample of 10 different activities like:\n",
    "### Pool, Bowling, Boxing, Brushing-Teeth, Cricket, knife-Cutting, Drumming, Fencing, Golf-Swing, Hammering, Handstand"
   ]
  },
  {
   "cell_type": "code",
   "execution_count": 34,
   "id": "874211a3-cf97-4e3f-8c46-6153ffe5d269",
   "metadata": {},
   "outputs": [],
   "source": [
    "os.mkdir('C:/Users/ppras/ML/HRA/greyscale')"
   ]
  },
  {
   "cell_type": "code",
   "execution_count": 35,
   "id": "8f916a34-2dd4-411b-a542-40002afa60cb",
   "metadata": {},
   "outputs": [],
   "source": [
    "dirPath1 = 'C:/Users/ppras/ML/HRA/Bowling_frames'\n",
    "dirPath2 = 'C:/Users/ppras/ML/HRA/Boxing_frames'\n",
    "dirPath3 = 'C:/Users/ppras/ML/HRA/Brushing_Teeth_frames'\n",
    "dirPath4 = 'C:/Users/ppras/ML/HRA/Handstand_frames'\n",
    "dirPath5 = 'C:/Users/ppras/ML/HRA/Fencing_frames'"
   ]
  },
  {
   "cell_type": "code",
   "execution_count": 36,
   "id": "fc847840-33eb-4e6c-9cf5-58801ffc0f29",
   "metadata": {},
   "outputs": [],
   "source": [
    "files1 = os.listdir(dirPath1)\n",
    "files2 = os.listdir(dirPath2)\n",
    "files3 = os.listdir(dirPath3)\n",
    "files4 = os.listdir(dirPath4)\n",
    "files5 = os.listdir(dirPath5)"
   ]
  },
  {
   "cell_type": "code",
   "execution_count": 37,
   "id": "9de10be6-9d4f-4708-9af8-a916d5dffd1b",
   "metadata": {},
   "outputs": [],
   "source": [
    "down_width = 240\n",
    "down_height = 180\n",
    "down_points = (down_width,down_height)"
   ]
  },
  {
   "cell_type": "code",
   "execution_count": 38,
   "id": "4a5ba8a8-1fca-4b44-9a44-de62048a8b6f",
   "metadata": {},
   "outputs": [],
   "source": [
    "im_count1 = 0\n",
    "for file in files1:\n",
    "    impath1 = os.path.join(dirPath1,file)\n",
    "    image1 = cv2.imread(impath1, cv2.IMREAD_GRAYSCALE)\n",
    "    norm1 = cv2.normalize(image1, None, alpha=0,beta=200, norm_type=cv2.NORM_MINMAX)\n",
    "    resized_up1 = cv2.resize(norm1, down_points, interpolation= cv2.INTER_LINEAR)\n",
    "    norm11 = cv2.imwrite('C:/Users/ppras/ML/HRA/greyscale/bowling_' + str(im_count1) + '.jpg' , resized_up1)\n",
    "    im_count1 +=1"
   ]
  },
  {
   "cell_type": "code",
   "execution_count": 39,
   "id": "cb5e4383-83cc-48c3-b9da-2eb3e783a5d8",
   "metadata": {},
   "outputs": [],
   "source": [
    "im_count2 = 0\n",
    "for file in files2:\n",
    "    impath2 = os.path.join(dirPath2,file)\n",
    "    image2 = cv2.imread(impath2, cv2.IMREAD_GRAYSCALE)\n",
    "    norm2 = cv2.normalize(image2, None, alpha=0,beta=200, norm_type=cv2.NORM_MINMAX)\n",
    "    resized_up2 = cv2.resize(norm2, down_points, interpolation= cv2.INTER_LINEAR)\n",
    "    norm12 = cv2.imwrite('C:/Users/ppras/ML/HRA/greyscale/boxing_' + str(im_count2) + '.jpg' , resized_up2)\n",
    "    im_count2 +=1"
   ]
  },
  {
   "cell_type": "code",
   "execution_count": 40,
   "id": "bf5891b0-4b4a-4e6d-ad03-4b30bf21dee0",
   "metadata": {},
   "outputs": [],
   "source": [
    "im_count3 = 0\n",
    "for file in files3:\n",
    "    impath3 = os.path.join(dirPath3,file)\n",
    "    image3 = cv2.imread(impath3, cv2.IMREAD_GRAYSCALE)\n",
    "    norm3 = cv2.normalize(image3, None, alpha=0,beta=200, norm_type=cv2.NORM_MINMAX)\n",
    "    resized_up3 = cv2.resize(norm3, down_points, interpolation= cv2.INTER_LINEAR)\n",
    "    norm13 = cv2.imwrite('C:/Users/ppras/ML/HRA/greyscale/brushing_teeth__' + str(im_count3) + '.jpg' , resized_up3)\n",
    "    im_count3 +=1"
   ]
  },
  {
   "cell_type": "code",
   "execution_count": 41,
   "id": "affd9ec9-bfa8-4e37-9031-2708916d87b5",
   "metadata": {},
   "outputs": [],
   "source": [
    "im_count4 = 0\n",
    "for file in files4:\n",
    "    impath4 = os.path.join(dirPath4,file)\n",
    "    image4 = cv2.imread(impath4, cv2.IMREAD_GRAYSCALE)\n",
    "    norm4 = cv2.normalize(image4, None, alpha=0,beta=200, norm_type=cv2.NORM_MINMAX)\n",
    "    resized_up4 = cv2.resize(norm4, down_points, interpolation= cv2.INTER_LINEAR)\n",
    "    norm14 = cv2.imwrite('C:/Users/ppras/ML/HRA/greyscale/handstand_' + str(im_count4) + '.jpg' , resized_up4)\n",
    "    im_count4 +=1"
   ]
  },
  {
   "cell_type": "code",
   "execution_count": 42,
   "id": "86e9821f-cbd6-42d0-954c-057a1402ba3b",
   "metadata": {},
   "outputs": [],
   "source": [
    "im_count5 = 0\n",
    "for file in files5:\n",
    "    impath5 = os.path.join(dirPath5,file)\n",
    "    image5 = cv2.imread(impath5, cv2.IMREAD_GRAYSCALE)\n",
    "    norm5 = cv2.normalize(image5, None, alpha=0,beta=200, norm_type=cv2.NORM_MINMAX)\n",
    "    resized_up5 = cv2.resize(norm5, down_points, interpolation= cv2.INTER_LINEAR)\n",
    "    norm15 = cv2.imwrite('C:/Users/ppras/ML/HRA/greyscale/fencing_' + str(im_count5) + '.jpg' , resized_up5)\n",
    "    im_count5 +=1"
   ]
  },
  {
   "cell_type": "code",
   "execution_count": 2,
   "id": "9accf015-8036-46e3-afca-ce7e93c38756",
   "metadata": {},
   "outputs": [],
   "source": [
    "data_path = 'C:/Users/ppras/ML/HRA/frames/'"
   ]
  },
  {
   "cell_type": "code",
   "execution_count": 3,
   "id": "764faa32-a194-4d11-bf7e-bc525a7c50fb",
   "metadata": {},
   "outputs": [],
   "source": [
    "categoeries = os.listdir(data_path)\n",
    "labels = [i for i in range(len(categoeries))]\n",
    "\n",
    "label_dict = dict(zip(categoeries, labels))"
   ]
  },
  {
   "cell_type": "markdown",
   "id": "d8599ce2-55eb-4c4b-b118-4d44d24f8e22",
   "metadata": {},
   "source": [
    "### Labeling Data"
   ]
  },
  {
   "cell_type": "code",
   "execution_count": 4,
   "id": "a8052081-3f69-4769-8484-8e4e31c8ccba",
   "metadata": {},
   "outputs": [
    {
     "name": "stdout",
     "output_type": "stream",
     "text": [
      "{'bowling': 0, 'boxing': 1, 'fencing': 2}\n",
      "['bowling', 'boxing', 'fencing']\n",
      "[0, 1, 2]\n"
     ]
    }
   ],
   "source": [
    "print(label_dict)\n",
    "print(categoeries)\n",
    "print(labels)"
   ]
  },
  {
   "cell_type": "code",
   "execution_count": 5,
   "id": "c5442d12-fb48-49f1-b6bc-726678a228ba",
   "metadata": {},
   "outputs": [],
   "source": [
    "img_size = 100\n",
    "data = []\n",
    "targate = []"
   ]
  },
  {
   "cell_type": "code",
   "execution_count": 9,
   "id": "89e2d9c1-c4fb-4dde-b771-4f36b33c7563",
   "metadata": {},
   "outputs": [
    {
     "ename": "FileNotFoundError",
     "evalue": "[WinError 3] The system cannot find the path specified: 'C:/Users/ppras/ML/HRA/frames/bowling'",
     "output_type": "error",
     "traceback": [
      "\u001b[1;31m---------------------------------------------------------------------------\u001b[0m",
      "\u001b[1;31mFileNotFoundError\u001b[0m                         Traceback (most recent call last)",
      "\u001b[1;32m~\\AppData\\Local\\Temp/ipykernel_5900/2032617324.py\u001b[0m in \u001b[0;36m<module>\u001b[1;34m\u001b[0m\n\u001b[0;32m      1\u001b[0m \u001b[1;32mfor\u001b[0m \u001b[0mcategory\u001b[0m \u001b[1;32min\u001b[0m \u001b[0mcategoeries\u001b[0m\u001b[1;33m:\u001b[0m\u001b[1;33m\u001b[0m\u001b[1;33m\u001b[0m\u001b[0m\n\u001b[0;32m      2\u001b[0m     \u001b[0mfolder_path\u001b[0m \u001b[1;33m=\u001b[0m \u001b[0mos\u001b[0m\u001b[1;33m.\u001b[0m\u001b[0mpath\u001b[0m\u001b[1;33m.\u001b[0m\u001b[0mjoin\u001b[0m\u001b[1;33m(\u001b[0m\u001b[0mdata_path\u001b[0m\u001b[1;33m,\u001b[0m\u001b[0mcategory\u001b[0m\u001b[1;33m)\u001b[0m\u001b[1;33m\u001b[0m\u001b[1;33m\u001b[0m\u001b[0m\n\u001b[1;32m----> 3\u001b[1;33m     \u001b[0mimg_names\u001b[0m \u001b[1;33m=\u001b[0m \u001b[0mos\u001b[0m\u001b[1;33m.\u001b[0m\u001b[0mlistdir\u001b[0m\u001b[1;33m(\u001b[0m\u001b[0mfolder_path\u001b[0m\u001b[1;33m)\u001b[0m\u001b[1;33m\u001b[0m\u001b[1;33m\u001b[0m\u001b[0m\n\u001b[0m\u001b[0;32m      4\u001b[0m \u001b[1;33m\u001b[0m\u001b[0m\n\u001b[0;32m      5\u001b[0m     \u001b[1;32mfor\u001b[0m \u001b[0mimg_name\u001b[0m \u001b[1;32min\u001b[0m \u001b[0mimg_names\u001b[0m\u001b[1;33m:\u001b[0m\u001b[1;33m\u001b[0m\u001b[1;33m\u001b[0m\u001b[0m\n",
      "\u001b[1;31mFileNotFoundError\u001b[0m: [WinError 3] The system cannot find the path specified: 'C:/Users/ppras/ML/HRA/frames/bowling'"
     ]
    }
   ],
   "source": [
    "for category in categoeries:\n",
    "    folder_path = os.path.join(data_path,category)\n",
    "    img_names = os.listdir(folder_path)\n",
    "    \n",
    "    for img_name in img_names:\n",
    "        img_path = os.path.join(folder_path,img_name)\n",
    "        img = cv2.imread(img_path)\n",
    "        \n",
    "        try:\n",
    "            resized = cv2.resize(img,(img_size,img_size))\n",
    "            data.append(resized)\n",
    "            targate.append(label_dict[category])\n",
    "            \n",
    "        except Exception as e:\n",
    "            print('Exception: ',e)\n",
    "            "
   ]
  },
  {
   "cell_type": "code",
   "execution_count": 24,
   "id": "aecec9d6-87f8-4f7a-8cb2-58f9636373ea",
   "metadata": {},
   "outputs": [],
   "source": [
    "data = np.array(data) / 255.0\n",
    "data = np.reshape(data,(data.shape[0],img_size,img_size,3))\n",
    "targate = np.array(targate)\n",
    "\n",
    "from keras.utils import np_utils\n",
    "new_targate = np_utils.to_categorical(targate)"
   ]
  },
  {
   "cell_type": "code",
   "execution_count": 25,
   "id": "b7f812be-e2ee-410a-b9ef-c0a1aa5fb2ac",
   "metadata": {},
   "outputs": [
    {
     "data": {
      "text/plain": [
       "(1038, 3)"
      ]
     },
     "execution_count": 25,
     "metadata": {},
     "output_type": "execute_result"
    }
   ],
   "source": [
    "new_targate.shape"
   ]
  },
  {
   "cell_type": "code",
   "execution_count": 26,
   "id": "d7ef216b-33b2-4ea1-9d3f-08f14d5859ec",
   "metadata": {},
   "outputs": [
    {
     "data": {
      "text/plain": [
       "(1038, 100, 100, 3)"
      ]
     },
     "execution_count": 26,
     "metadata": {},
     "output_type": "execute_result"
    }
   ],
   "source": [
    "data.shape"
   ]
  },
  {
   "cell_type": "code",
   "execution_count": 27,
   "id": "a9ccc0b8-acc7-4ffd-b4c5-20c54a2f12d8",
   "metadata": {},
   "outputs": [
    {
     "data": {
      "text/plain": [
       "(100, 100, 3)"
      ]
     },
     "execution_count": 27,
     "metadata": {},
     "output_type": "execute_result"
    }
   ],
   "source": [
    "data.shape[1:]"
   ]
  },
  {
   "cell_type": "markdown",
   "id": "e579e0af-ba9e-47c2-bb79-cc3c952ffc04",
   "metadata": {},
   "source": [
    "### CNN "
   ]
  },
  {
   "cell_type": "code",
   "execution_count": 50,
   "id": "f9b0d9a4-2c05-48f9-a3ee-d91dbf00d27b",
   "metadata": {},
   "outputs": [],
   "source": [
    "from keras.models import Sequential\n",
    "from keras.layers import Dense,Activation,Flatten,Dropout\n",
    "from keras.layers import Conv2D,MaxPool2D\n",
    "from keras.callbacks import ModelCheckpoint"
   ]
  },
  {
   "cell_type": "code",
   "execution_count": 51,
   "id": "8ef689b8-bdf8-4446-abad-66a71c8adfcd",
   "metadata": {},
   "outputs": [],
   "source": [
    "model = Sequential()"
   ]
  },
  {
   "cell_type": "code",
   "execution_count": 52,
   "id": "5cbc606f-9cb8-4cf4-baf4-50ba4c468ad7",
   "metadata": {},
   "outputs": [],
   "source": [
    "## Layer 1\n",
    "model.add(Conv2D(200,(3,3),input_shape = data.shape[1:]))\n",
    "model.add(Activation('relu'))\n",
    "model.add(MaxPool2D(pool_size= (2,2)))\n",
    "\n",
    "## Layer 2\n",
    "\n",
    "model.add(Conv2D(100,(3,3)))\n",
    "model.add(Activation('relu'))\n",
    "model.add(MaxPool2D(pool_size= (2,2)))\n",
    "\n",
    "## Layer 3\n",
    "\n",
    "model.add(Flatten())\n",
    "model.add(Dropout(0.5))\n",
    "\n",
    "## Flatten layer\n",
    "\n",
    "model.add(Dense(50, activation='relu'))\n",
    "\n",
    "model.add(Dense(3,activation='softmax'))\n",
    "\n",
    "model.compile(loss = 'categorical_crossentropy', optimizer = 'adam', metrics=['accuracy'])"
   ]
  },
  {
   "cell_type": "code",
   "execution_count": 53,
   "id": "d39c66bc-ad88-4f08-a69f-34598a8943b2",
   "metadata": {},
   "outputs": [
    {
     "name": "stdout",
     "output_type": "stream",
     "text": [
      "Model: \"sequential_3\"\n",
      "_________________________________________________________________\n",
      " Layer (type)                Output Shape              Param #   \n",
      "=================================================================\n",
      " conv2d_10 (Conv2D)          (None, 98, 98, 200)       5600      \n",
      "                                                                 \n",
      " activation_6 (Activation)   (None, 98, 98, 200)       0         \n",
      "                                                                 \n",
      " max_pooling2d_6 (MaxPooling  (None, 49, 49, 200)      0         \n",
      " 2D)                                                             \n",
      "                                                                 \n",
      " conv2d_11 (Conv2D)          (None, 47, 47, 100)       180100    \n",
      "                                                                 \n",
      " activation_7 (Activation)   (None, 47, 47, 100)       0         \n",
      "                                                                 \n",
      " max_pooling2d_7 (MaxPooling  (None, 23, 23, 100)      0         \n",
      " 2D)                                                             \n",
      "                                                                 \n",
      " flatten_3 (Flatten)         (None, 52900)             0         \n",
      "                                                                 \n",
      " dropout_3 (Dropout)         (None, 52900)             0         \n",
      "                                                                 \n",
      " dense_6 (Dense)             (None, 50)                2645050   \n",
      "                                                                 \n",
      " dense_7 (Dense)             (None, 3)                 153       \n",
      "                                                                 \n",
      "=================================================================\n",
      "Total params: 2,830,903\n",
      "Trainable params: 2,830,903\n",
      "Non-trainable params: 0\n",
      "_________________________________________________________________\n"
     ]
    }
   ],
   "source": [
    "model.summary()"
   ]
  },
  {
   "cell_type": "code",
   "execution_count": 54,
   "id": "dba876c9-8109-431c-88a4-d2db08e3239a",
   "metadata": {},
   "outputs": [],
   "source": [
    "## train_test\n",
    "\n",
    "from sklearn.model_selection import train_test_split\n",
    "train_data,test_data,train_targate,test_targate = train_test_split(data,new_targate,test_size=0.2)"
   ]
  },
  {
   "cell_type": "code",
   "execution_count": 55,
   "id": "d2e5a664-382e-4fa7-992d-11181a76b3b2",
   "metadata": {},
   "outputs": [
    {
     "name": "stdout",
     "output_type": "stream",
     "text": [
      "(830, 100, 100, 3)\n",
      "(208, 100, 100, 3)\n",
      "(830, 3)\n",
      "(208, 3)\n"
     ]
    }
   ],
   "source": [
    "print(train_data.shape)\n",
    "print(test_data.shape)\n",
    "print(train_targate.shape)\n",
    "print(test_targate.shape)"
   ]
  },
  {
   "cell_type": "code",
   "execution_count": 59,
   "id": "470a183c-e541-4150-8e88-7e58efb9b46e",
   "metadata": {},
   "outputs": [
    {
     "name": "stdout",
     "output_type": "stream",
     "text": [
      "Epoch 1/50\n",
      "21/21 [==============================] - 41s 2s/step - loss: 5.3860e-09 - accuracy: 1.0000 - val_loss: 1.5081e-08 - val_accuracy: 1.0000\n",
      "Epoch 2/50\n",
      "21/21 [==============================] - 40s 2s/step - loss: 6.6427e-09 - accuracy: 1.0000 - val_loss: 1.5081e-08 - val_accuracy: 1.0000\n",
      "Epoch 3/50\n",
      "21/21 [==============================] - 43s 2s/step - loss: 3.4111e-09 - accuracy: 1.0000 - val_loss: 1.5799e-08 - val_accuracy: 1.0000\n",
      "Epoch 4/50\n",
      "21/21 [==============================] - 41s 2s/step - loss: 9.5152e-09 - accuracy: 1.0000 - val_loss: 1.5799e-08 - val_accuracy: 1.0000\n",
      "Epoch 5/50\n",
      "21/21 [==============================] - 46s 2s/step - loss: 5.7450e-09 - accuracy: 1.0000 - val_loss: 1.5799e-08 - val_accuracy: 1.0000\n",
      "Epoch 6/50\n",
      "21/21 [==============================] - 43s 2s/step - loss: 1.2029e-08 - accuracy: 1.0000 - val_loss: 1.5799e-08 - val_accuracy: 1.0000\n",
      "Epoch 7/50\n",
      "21/21 [==============================] - 41s 2s/step - loss: 6.4632e-09 - accuracy: 1.0000 - val_loss: 1.5799e-08 - val_accuracy: 1.0000\n",
      "Epoch 8/50\n",
      "21/21 [==============================] - 46s 2s/step - loss: 3.0520e-09 - accuracy: 1.0000 - val_loss: 1.5799e-08 - val_accuracy: 1.0000\n",
      "Epoch 9/50\n",
      "21/21 [==============================] - 45s 2s/step - loss: 5.2064e-09 - accuracy: 1.0000 - val_loss: 1.5799e-08 - val_accuracy: 1.0000\n",
      "Epoch 10/50\n",
      "21/21 [==============================] - 46s 2s/step - loss: 7.5403e-09 - accuracy: 1.0000 - val_loss: 1.6517e-08 - val_accuracy: 1.0000\n",
      "Epoch 11/50\n",
      "21/21 [==============================] - 41s 2s/step - loss: 8.2585e-09 - accuracy: 1.0000 - val_loss: 1.6517e-08 - val_accuracy: 1.0000\n",
      "Epoch 12/50\n",
      "21/21 [==============================] - 43s 2s/step - loss: 5.5655e-09 - accuracy: 1.0000 - val_loss: 1.7235e-08 - val_accuracy: 1.0000\n",
      "Epoch 13/50\n",
      "21/21 [==============================] - 48s 2s/step - loss: 1.2029e-08 - accuracy: 1.0000 - val_loss: 1.7235e-08 - val_accuracy: 1.0000\n",
      "Epoch 14/50\n",
      "21/21 [==============================] - 43s 2s/step - loss: 6.1041e-09 - accuracy: 1.0000 - val_loss: 1.7235e-08 - val_accuracy: 1.0000\n",
      "Epoch 15/50\n",
      "21/21 [==============================] - 42s 2s/step - loss: 7.5403e-09 - accuracy: 1.0000 - val_loss: 1.7235e-08 - val_accuracy: 1.0000\n",
      "Epoch 16/50\n",
      "21/21 [==============================] - 46s 2s/step - loss: 1.0233e-08 - accuracy: 1.0000 - val_loss: 1.7235e-08 - val_accuracy: 1.0000\n",
      "Epoch 17/50\n",
      "21/21 [==============================] - 54s 3s/step - loss: 9.6947e-09 - accuracy: 1.0000 - val_loss: 1.7235e-08 - val_accuracy: 1.0000\n",
      "Epoch 18/50\n",
      "21/21 [==============================] - 42s 2s/step - loss: 8.9766e-09 - accuracy: 1.0000 - val_loss: 1.7235e-08 - val_accuracy: 1.0000\n",
      "Epoch 19/50\n",
      "21/21 [==============================] - 43s 2s/step - loss: 7.7199e-09 - accuracy: 1.0000 - val_loss: 1.7235e-08 - val_accuracy: 1.0000\n",
      "Epoch 20/50\n",
      "21/21 [==============================] - 43s 2s/step - loss: 5.0269e-09 - accuracy: 1.0000 - val_loss: 1.6517e-08 - val_accuracy: 1.0000\n",
      "Epoch 21/50\n",
      "21/21 [==============================] - 42s 2s/step - loss: 5.3860e-09 - accuracy: 1.0000 - val_loss: 1.7235e-08 - val_accuracy: 1.0000\n",
      "Epoch 22/50\n",
      "21/21 [==============================] - 44s 2s/step - loss: 8.2585e-09 - accuracy: 1.0000 - val_loss: 1.7235e-08 - val_accuracy: 1.0000\n",
      "Epoch 23/50\n",
      "21/21 [==============================] - 44s 2s/step - loss: 4.8474e-09 - accuracy: 1.0000 - val_loss: 1.7235e-08 - val_accuracy: 1.0000\n",
      "Epoch 24/50\n",
      "21/21 [==============================] - 47s 2s/step - loss: 5.3860e-09 - accuracy: 1.0000 - val_loss: 1.7235e-08 - val_accuracy: 1.0000\n",
      "Epoch 25/50\n",
      "21/21 [==============================] - 49s 2s/step - loss: 8.9766e-09 - accuracy: 1.0000 - val_loss: 1.7235e-08 - val_accuracy: 1.0000\n",
      "Epoch 26/50\n",
      "21/21 [==============================] - 54s 3s/step - loss: 4.3088e-09 - accuracy: 1.0000 - val_loss: 1.7235e-08 - val_accuracy: 1.0000\n",
      "Epoch 27/50\n",
      "21/21 [==============================] - 55s 3s/step - loss: 6.1041e-09 - accuracy: 1.0000 - val_loss: 1.7235e-08 - val_accuracy: 1.0000\n",
      "Epoch 28/50\n",
      "21/21 [==============================] - 54s 3s/step - loss: 1.0413e-08 - accuracy: 1.0000 - val_loss: 1.7235e-08 - val_accuracy: 1.0000\n",
      "Epoch 29/50\n",
      "21/21 [==============================] - 53s 3s/step - loss: 9.5152e-09 - accuracy: 1.0000 - val_loss: 1.7235e-08 - val_accuracy: 1.0000\n",
      "Epoch 30/50\n",
      "21/21 [==============================] - 53s 3s/step - loss: 4.4883e-09 - accuracy: 1.0000 - val_loss: 1.7235e-08 - val_accuracy: 1.0000\n",
      "Epoch 31/50\n",
      "21/21 [==============================] - 54s 3s/step - loss: 5.2064e-09 - accuracy: 1.0000 - val_loss: 1.7235e-08 - val_accuracy: 1.0000\n",
      "Epoch 32/50\n",
      "21/21 [==============================] - 54s 3s/step - loss: 4.6678e-09 - accuracy: 1.0000 - val_loss: 1.7235e-08 - val_accuracy: 1.0000\n",
      "Epoch 33/50\n",
      "21/21 [==============================] - 53s 3s/step - loss: 7.1813e-09 - accuracy: 1.0000 - val_loss: 1.6517e-08 - val_accuracy: 1.0000\n",
      "Epoch 34/50\n",
      "21/21 [==============================] - 53s 3s/step - loss: 6.6427e-09 - accuracy: 1.0000 - val_loss: 1.6517e-08 - val_accuracy: 1.0000\n",
      "Epoch 35/50\n",
      "21/21 [==============================] - 54s 3s/step - loss: 6.6427e-09 - accuracy: 1.0000 - val_loss: 1.6517e-08 - val_accuracy: 1.0000\n",
      "Epoch 36/50\n",
      "21/21 [==============================] - 53s 3s/step - loss: 8.9766e-09 - accuracy: 1.0000 - val_loss: 1.6517e-08 - val_accuracy: 1.0000\n",
      "Epoch 37/50\n",
      "21/21 [==============================] - 53s 3s/step - loss: 5.5655e-09 - accuracy: 1.0000 - val_loss: 1.6517e-08 - val_accuracy: 1.0000\n",
      "Epoch 38/50\n",
      "21/21 [==============================] - 53s 3s/step - loss: 6.8222e-09 - accuracy: 1.0000 - val_loss: 1.6517e-08 - val_accuracy: 1.0000\n",
      "Epoch 39/50\n",
      "21/21 [==============================] - 46s 2s/step - loss: 6.1041e-09 - accuracy: 1.0000 - val_loss: 1.6517e-08 - val_accuracy: 1.0000\n",
      "Epoch 40/50\n",
      "21/21 [==============================] - 47s 2s/step - loss: 4.1292e-09 - accuracy: 1.0000 - val_loss: 1.6517e-08 - val_accuracy: 1.0000\n",
      "Epoch 41/50\n",
      "21/21 [==============================] - 52s 2s/step - loss: 1.1490e-08 - accuracy: 1.0000 - val_loss: 1.6517e-08 - val_accuracy: 1.0000\n",
      "Epoch 42/50\n",
      "21/21 [==============================] - 54s 3s/step - loss: 4.1292e-09 - accuracy: 1.0000 - val_loss: 1.6517e-08 - val_accuracy: 1.0000\n",
      "Epoch 43/50\n",
      "21/21 [==============================] - 56s 3s/step - loss: 3.4111e-09 - accuracy: 1.0000 - val_loss: 1.6517e-08 - val_accuracy: 1.0000\n",
      "Epoch 44/50\n",
      "21/21 [==============================] - 47s 2s/step - loss: 7.8994e-09 - accuracy: 1.0000 - val_loss: 1.6517e-08 - val_accuracy: 1.0000\n",
      "Epoch 45/50\n",
      "21/21 [==============================] - 53s 3s/step - loss: 3.5906e-09 - accuracy: 1.0000 - val_loss: 1.6517e-08 - val_accuracy: 1.0000\n",
      "Epoch 46/50\n",
      "21/21 [==============================] - 52s 2s/step - loss: 4.1292e-09 - accuracy: 1.0000 - val_loss: 1.6517e-08 - val_accuracy: 1.0000\n",
      "Epoch 47/50\n",
      "21/21 [==============================] - 52s 2s/step - loss: 6.1041e-09 - accuracy: 1.0000 - val_loss: 1.6517e-08 - val_accuracy: 1.0000\n",
      "Epoch 48/50\n",
      "21/21 [==============================] - 52s 3s/step - loss: 3.4111e-09 - accuracy: 1.0000 - val_loss: 1.6517e-08 - val_accuracy: 1.0000\n",
      "Epoch 49/50\n",
      "21/21 [==============================] - 52s 2s/step - loss: 1.1670e-08 - accuracy: 1.0000 - val_loss: 1.6517e-08 - val_accuracy: 1.0000\n",
      "Epoch 50/50\n",
      "21/21 [==============================] - 51s 2s/step - loss: 9.1561e-09 - accuracy: 1.0000 - val_loss: 1.6517e-08 - val_accuracy: 1.0000\n"
     ]
    }
   ],
   "source": [
    "history = model.fit(train_data,train_targate,epochs=50,validation_split=0.2)"
   ]
  },
  {
   "cell_type": "code",
   "execution_count": 72,
   "id": "180582a6-3eaf-4859-944b-d4bee3e3b8c0",
   "metadata": {},
   "outputs": [
    {
     "name": "stdout",
     "output_type": "stream",
     "text": [
      "Epoch 1/30\n",
      "6/6 [==============================] - 11s 2s/step - loss: 4.3088e-09 - accuracy: 1.0000 - val_loss: 2.8383e-09 - val_accuracy: 1.0000\n",
      "Epoch 2/30\n",
      "6/6 [==============================] - 10s 2s/step - loss: 3.5906e-09 - accuracy: 1.0000 - val_loss: 2.8383e-09 - val_accuracy: 1.0000\n",
      "Epoch 3/30\n",
      "6/6 [==============================] - 10s 2s/step - loss: 5.2423e-08 - accuracy: 1.0000 - val_loss: 2.8383e-09 - val_accuracy: 1.0000\n",
      "Epoch 4/30\n",
      "6/6 [==============================] - 9s 2s/step - loss: 1.1490e-08 - accuracy: 1.0000 - val_loss: 2.8383e-09 - val_accuracy: 1.0000\n",
      "Epoch 5/30\n",
      "6/6 [==============================] - 10s 2s/step - loss: 8.1148e-08 - accuracy: 1.0000 - val_loss: 2.8383e-09 - val_accuracy: 1.0000\n",
      "Epoch 6/30\n",
      "6/6 [==============================] - 10s 2s/step - loss: 1.1562e-07 - accuracy: 1.0000 - val_loss: 2.8383e-09 - val_accuracy: 1.0000\n",
      "Epoch 7/30\n",
      "6/6 [==============================] - 10s 2s/step - loss: 5.0269e-09 - accuracy: 1.0000 - val_loss: 2.8383e-09 - val_accuracy: 1.0000\n",
      "Epoch 8/30\n",
      "6/6 [==============================] - 10s 2s/step - loss: 7.8994e-09 - accuracy: 1.0000 - val_loss: 2.8383e-09 - val_accuracy: 1.0000\n",
      "Epoch 9/30\n",
      "6/6 [==============================] - 10s 2s/step - loss: 1.5799e-08 - accuracy: 1.0000 - val_loss: 2.8383e-09 - val_accuracy: 1.0000\n",
      "Epoch 10/30\n",
      "6/6 [==============================] - 10s 2s/step - loss: 2.8725e-09 - accuracy: 1.0000 - val_loss: 2.8383e-09 - val_accuracy: 1.0000\n",
      "Epoch 11/30\n",
      "6/6 [==============================] - 10s 2s/step - loss: 4.6678e-08 - accuracy: 1.0000 - val_loss: 2.8383e-09 - val_accuracy: 1.0000\n",
      "Epoch 12/30\n",
      "6/6 [==============================] - 10s 2s/step - loss: 5.0269e-09 - accuracy: 1.0000 - val_loss: 2.8383e-09 - val_accuracy: 1.0000\n",
      "Epoch 13/30\n",
      "6/6 [==============================] - 10s 2s/step - loss: 1.0772e-08 - accuracy: 1.0000 - val_loss: 2.8383e-09 - val_accuracy: 1.0000\n",
      "Epoch 14/30\n",
      "6/6 [==============================] - 10s 2s/step - loss: 1.0054e-08 - accuracy: 1.0000 - val_loss: 2.8383e-09 - val_accuracy: 1.0000\n",
      "Epoch 15/30\n",
      "6/6 [==============================] - 10s 2s/step - loss: 1.9389e-08 - accuracy: 1.0000 - val_loss: 2.8383e-09 - val_accuracy: 1.0000\n",
      "Epoch 16/30\n",
      "6/6 [==============================] - 10s 2s/step - loss: 1.0054e-08 - accuracy: 1.0000 - val_loss: 2.8383e-09 - val_accuracy: 1.0000\n",
      "Epoch 17/30\n",
      "6/6 [==============================] - 10s 2s/step - loss: 1.5081e-08 - accuracy: 1.0000 - val_loss: 2.8383e-09 - val_accuracy: 1.0000\n",
      "Epoch 18/30\n",
      "6/6 [==============================] - 10s 2s/step - loss: 1.6732e-07 - accuracy: 1.0000 - val_loss: 2.8383e-09 - val_accuracy: 1.0000\n",
      "Epoch 19/30\n",
      "6/6 [==============================] - 10s 2s/step - loss: 1.2208e-08 - accuracy: 1.0000 - val_loss: 2.8383e-09 - val_accuracy: 1.0000\n",
      "Epoch 20/30\n",
      "6/6 [==============================] - 15s 2s/step - loss: 5.0269e-09 - accuracy: 1.0000 - val_loss: 2.8383e-09 - val_accuracy: 1.0000\n",
      "Epoch 21/30\n",
      "6/6 [==============================] - 14s 2s/step - loss: 1.4363e-08 - accuracy: 1.0000 - val_loss: 2.8383e-09 - val_accuracy: 1.0000\n",
      "Epoch 22/30\n",
      "6/6 [==============================] - 14s 2s/step - loss: 5.0269e-09 - accuracy: 1.0000 - val_loss: 2.8383e-09 - val_accuracy: 1.0000\n",
      "Epoch 23/30\n",
      "6/6 [==============================] - 16s 3s/step - loss: 7.1813e-09 - accuracy: 1.0000 - val_loss: 2.8383e-09 - val_accuracy: 1.0000\n",
      "Epoch 24/30\n",
      "6/6 [==============================] - 14s 2s/step - loss: 4.5960e-08 - accuracy: 1.0000 - val_loss: 2.8383e-09 - val_accuracy: 1.0000\n",
      "Epoch 25/30\n",
      "6/6 [==============================] - 10s 2s/step - loss: 3.5906e-09 - accuracy: 1.0000 - val_loss: 2.8383e-09 - val_accuracy: 1.0000\n",
      "Epoch 26/30\n",
      "6/6 [==============================] - 11s 2s/step - loss: 1.0772e-08 - accuracy: 1.0000 - val_loss: 2.8383e-09 - val_accuracy: 1.0000\n",
      "Epoch 27/30\n",
      "6/6 [==============================] - 10s 2s/step - loss: 3.3034e-08 - accuracy: 1.0000 - val_loss: 2.8383e-09 - val_accuracy: 1.0000\n",
      "Epoch 28/30\n",
      "6/6 [==============================] - 10s 2s/step - loss: 7.1813e-09 - accuracy: 1.0000 - val_loss: 2.8383e-09 - val_accuracy: 1.0000\n",
      "Epoch 29/30\n",
      "6/6 [==============================] - 10s 2s/step - loss: 8.6175e-09 - accuracy: 1.0000 - val_loss: 2.8383e-09 - val_accuracy: 1.0000\n",
      "Epoch 30/30\n",
      "6/6 [==============================] - 10s 2s/step - loss: 1.7953e-08 - accuracy: 1.0000 - val_loss: 2.8383e-09 - val_accuracy: 1.0000\n"
     ]
    }
   ],
   "source": [
    "history1 = model.fit(test_data,test_targate,epochs=30,validation_split=0.2)"
   ]
  },
  {
   "cell_type": "markdown",
   "id": "7cb1442e-5650-499f-a821-f46cd97a4e6a",
   "metadata": {},
   "source": [
    "## Plotting trainig loss and accuracy"
   ]
  },
  {
   "cell_type": "code",
   "execution_count": 73,
   "id": "c4fddb14-38bd-423d-83df-fcf9ddd66005",
   "metadata": {},
   "outputs": [],
   "source": [
    "import seaborn as sns"
   ]
  },
  {
   "cell_type": "code",
   "execution_count": 74,
   "id": "4cbca413-7a19-4587-841d-3e6092d7e117",
   "metadata": {},
   "outputs": [
    {
     "data": {
      "image/png": "[encoded data removed]",
      "text/plain": [
       "<Figure size 432x288 with 1 Axes>"
      ]
     },
     "metadata": {},
     "output_type": "display_data"
    }
   ],
   "source": [
    "N = 50\n",
    "plt.style.use(\"ggplot\")\n",
    "plt.figure()\n",
    "plt.plot(np.arange(0,N), history.history[\"loss\"],label = 'train_loss')\n",
    "plt.plot(np.arange(0,N), history.history[\"accuracy\"],label = 'val_loss')\n",
    "plt.plot(np.arange(0,N), history.history[\"val_loss\"],label = 'train_accuracy')\n",
    "plt.plot(np.arange(0,N), history.history[\"val_accuracy\"],label = 'val_accuracy')\n",
    "\n",
    "plt.title('Train Loss and Accuracy')\n",
    "plt.xlabel(\"Epoch #\")\n",
    "plt.ylabel(\"Loss/Accuracy\")\n",
    "plt.legend(loc = \"center right\")\n",
    "plt.show()"
   ]
  },
  {
   "cell_type": "code",
   "execution_count": 75,
   "id": "bd966f74-b1f2-47a6-b71c-16811a4c6f4e",
   "metadata": {},
   "outputs": [
    {
     "data": {
      "image/png": "[encoded data removed]",
      "text/plain": [
       "<Figure size 432x288 with 1 Axes>"
      ]
     },
     "metadata": {},
     "output_type": "display_data"
    }
   ],
   "source": [
    "N = 30\n",
    "plt.style.use(\"ggplot\")\n",
    "plt.figure()\n",
    "plt.plot(np.arange(0,N), history1.history[\"loss\"],label = 'train_loss')\n",
    "plt.plot(np.arange(0,N), history1.history[\"accuracy\"],label = 'val_loss')\n",
    "plt.plot(np.arange(0,N), history1.history[\"val_loss\"],label = 'train_accuracy')\n",
    "plt.plot(np.arange(0,N), history1.history[\"val_accuracy\"],label = 'val_accuracy')\n",
    "\n",
    "plt.title('Train Loss and Accuracy')\n",
    "plt.xlabel(\"Epoch #\")\n",
    "plt.ylabel(\"Loss/Accuracy\")\n",
    "plt.legend(loc = \"center right\")\n",
    "plt.show()"
   ]
  },
  {
   "cell_type": "code",
   "execution_count": null,
   "id": "bff9f372-4ffc-40f7-9237-db7cdb154eca",
   "metadata": {},
   "outputs": [],
   "source": [
    "img_count = 0\n",
    "folder_count = 0\n",
    "for items in categoeries:\n",
    "    path = os.path.join(root_path, items)\n",
    "    os.mkdir(path)\n",
    "    folder_count +=1\n",
    "    \n",
    "    for category in categoeries:\n",
    "        category_counter = 0\n",
    "        folder_path = os.path.join(data_path,category)\n",
    "        img_names = os.listdir(folder_path)\n",
    "        \n",
    "        for img_name in img_names:\n",
    "            cap4 = cv2.VideoCapture(os.path.join(folder_path, img_name))\n",
    "            success4, image4 = cap4.read()\n",
    "            while success4:\n",
    "                success4, image4 = cap4.read()\n",
    "                if not success4:\n",
    "                    break\n",
    "                cv2.imwrite(path + '/' + folder_path + '/' +str(img_count) + '.jpg' , image4)\n",
    "                img_count += 1\n",
    "                category_counter +=1"
   ]
  }
 ],
 "metadata": {
  "kernelspec": {
   "display_name": "Python 3 (ipykernel)",
   "language": "python",
   "name": "python3"
  },
  "language_info": {
   "codemirror_mode": {
    "name": "ipython",
    "version": 3
   },
   "file_extension": ".py",
   "mimetype": "text/x-python",
   "name": "python",
   "nbconvert_exporter": "python",
   "pygments_lexer": "ipython3",
   "version": "3.9.7"
  }
 },
 "nbformat": 4,
 "nbformat_minor": 5
}
